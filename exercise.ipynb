{
 "cells": [
  {
   "cell_type": "markdown",
   "id": "25919157",
   "metadata": {},
   "source": [
    "# Boston Houses' prices prediction"
   ]
  },
  {
   "cell_type": "code",
   "execution_count": 272,
   "id": "34c2adbc",
   "metadata": {},
   "outputs": [],
   "source": [
    "import numpy as np\n",
    "import torch.nn as nn\n",
    "import torch\n",
    "import matplotlib.pyplot as plt\n",
    "import pandas as pd"
   ]
  },
  {
   "cell_type": "markdown",
   "id": "a3cd0d67",
   "metadata": {},
   "source": [
    "## Load in the data"
   ]
  },
  {
   "cell_type": "code",
   "execution_count": 273,
   "id": "a8bde59f",
   "metadata": {},
   "outputs": [
    {
     "name": "stderr",
     "output_type": "stream",
     "text": [
      "--2025-04-06 10:44:46--  https://lazyprogrammer.me/course_files/exercises/boston.txt\n",
      "Resolving lazyprogrammer.me (lazyprogrammer.me)... 172.67.213.166, 104.21.23.210\n",
      "Connecting to lazyprogrammer.me (lazyprogrammer.me)|172.67.213.166|:443... connected.\n",
      "HTTP request sent, awaiting response... 200 OK\n",
      "Length: unspecified [text/plain]\n",
      "Saving to: 'boston.txt.1'\n",
      "\n",
      "     0K .......... .......... .......... .......... ..........  637K\n",
      "    50K                                                        1,04G=0,08s\n",
      "\n",
      "2025-04-06 10:44:47 (638 KB/s) - 'boston.txt.1' saved [51256]\n",
      "\n"
     ]
    }
   ],
   "source": [
    "!wget https://lazyprogrammer.me/course_files/exercises/boston.txt"
   ]
  },
  {
   "cell_type": "markdown",
   "id": "7d46c2a9",
   "metadata": {},
   "source": [
    "### Process the text file"
   ]
  },
  {
   "cell_type": "code",
   "execution_count": 274,
   "id": "e39833bf",
   "metadata": {},
   "outputs": [],
   "source": [
    "def create_csv_file(in_file, out_file):\n",
    "    with open(out_file, 'w') as out_f:\n",
    "        with open(in_file, 'r') as in_f:\n",
    "            i = 22  # Number of line to skips\n",
    "            count = 0\n",
    "            for line in in_f:\n",
    "                if i == 0:\n",
    "                    data = line.strip().split(\" \")\n",
    "                    if len(data) == 0: continue\n",
    "                    # Write to output file\n",
    "                    for num in data:\n",
    "                        # Skip non-numeric fields (due to split by just a whitespace)\n",
    "                        if len(num) == 0: continue\n",
    "                        out_f.write(num.strip())\n",
    "                        count += 1\n",
    "                        if count != 14:\n",
    "                            out_f.write(',')\n",
    "                        # Finished reading a row, move to next line\n",
    "                        else:\n",
    "                            count = 0\n",
    "                            out_f.write('\\n')\n",
    "                \n",
    "                # Skip line \n",
    "                else: i -= 1"
   ]
  },
  {
   "cell_type": "code",
   "execution_count": 275,
   "id": "01e9ca02",
   "metadata": {},
   "outputs": [],
   "source": [
    "# Create a csv file with the data only\n",
    "create_csv_file(\"boston.txt\", \"boston.csv\")"
   ]
  },
  {
   "cell_type": "markdown",
   "id": "e8c53739",
   "metadata": {},
   "source": [
    "### Read csv file into a numpy array"
   ]
  },
  {
   "cell_type": "code",
   "execution_count": 414,
   "id": "45e97f9b",
   "metadata": {},
   "outputs": [],
   "source": [
    "data = pd.read_csv(\"boston.csv\", header=None).to_numpy(dtype=np.float32)\n",
    "\n",
    "# Shuffle the data\n",
    "np.random.shuffle(data)"
   ]
  },
  {
   "cell_type": "code",
   "execution_count": 415,
   "id": "b4585811",
   "metadata": {},
   "outputs": [],
   "source": [
    "X = data[:, :12]  # The first 12 fields are features\n",
    "inputs = X.copy()\n",
    "y = data[:, 13].reshape(-1, 1)  # the last field is the price\n",
    "outputs = y.copy()"
   ]
  },
  {
   "cell_type": "code",
   "execution_count": 416,
   "id": "ddd9f7a0",
   "metadata": {},
   "outputs": [
    {
     "data": {
      "text/plain": [
       "((506, 12), (506, 1))"
      ]
     },
     "execution_count": 416,
     "metadata": {},
     "output_type": "execute_result"
    }
   ],
   "source": [
    "# Verify shape\n",
    "X.shape, y.shape"
   ]
  },
  {
   "cell_type": "markdown",
   "id": "88d4872f",
   "metadata": {},
   "source": [
    "#### Processing the data\n",
    "\n",
    "1. Standardize\n",
    "2. Convert into torch Tensor \n",
    "3. Split into test set and training set"
   ]
  },
  {
   "cell_type": "code",
   "execution_count": 417,
   "id": "d9e818a3",
   "metadata": {},
   "outputs": [],
   "source": [
    "# Standardize data\n",
    "mu_X = X.mean(axis=0)\n",
    "sigma_X = X.std(axis=0)\n",
    "mu_y = y.mean()\n",
    "sigma_y = y.std()\n",
    "\n",
    "X = (X - mu_X) / sigma_X\n",
    "y = (y - mu_y) / sigma_y"
   ]
  },
  {
   "cell_type": "code",
   "execution_count": 418,
   "id": "b167260c",
   "metadata": {},
   "outputs": [],
   "source": [
    "X = torch.from_numpy(X)  # Already of type float32 \n",
    "y = torch.from_numpy(y)"
   ]
  },
  {
   "cell_type": "code",
   "execution_count": 419,
   "id": "19c1a60a",
   "metadata": {},
   "outputs": [
    {
     "data": {
      "text/plain": [
       "(torch.Size([421, 12]),\n",
       " torch.Size([42, 12]),\n",
       " torch.Size([43, 12]),\n",
       " torch.Size([421, 1]),\n",
       " torch.Size([42, 1]),\n",
       " torch.Size([43, 1]))"
      ]
     },
     "execution_count": 419,
     "metadata": {},
     "output_type": "execute_result"
    }
   ],
   "source": [
    "# Number of training samples\n",
    "num_train, num_val = 10 * X.shape[0] // 12, X.shape[0] // 12\n",
    "\n",
    "X_train, X_val, X_test = torch.split_with_sizes(X, [num_train, num_val, X.shape[0]-num_val-num_train])\n",
    "y_train, y_val, y_test = torch.split_with_sizes(y, [num_train, num_val, X.shape[0]-num_val-num_train])\n",
    "X_train.shape, X_val.shape, X_test.shape, y_train.shape, y_val.shape, y_test.shape"
   ]
  },
  {
   "cell_type": "markdown",
   "id": "b2beff98",
   "metadata": {},
   "source": [
    "### Initiate the model\n",
    "\n",
    "For now assume linear model"
   ]
  },
  {
   "cell_type": "code",
   "execution_count": 420,
   "id": "e3a0a6f0",
   "metadata": {},
   "outputs": [],
   "source": [
    "model = nn.Linear(12, 1)"
   ]
  },
  {
   "cell_type": "code",
   "execution_count": 421,
   "id": "3eeb4d74",
   "metadata": {},
   "outputs": [],
   "source": [
    "# Configure loss function and optimizer\n",
    "lr = 0.07\n",
    "\n",
    "criterion = nn.MSELoss()\n",
    "optimizer = torch.optim.SGD(model.parameters(), lr=lr)"
   ]
  },
  {
   "cell_type": "markdown",
   "id": "a20a564b",
   "metadata": {},
   "source": [
    "### Train the model"
   ]
  },
  {
   "cell_type": "code",
   "execution_count": 422,
   "id": "27b30495",
   "metadata": {},
   "outputs": [
    {
     "name": "stdout",
     "output_type": "stream",
     "text": [
      "Epoch 0: loss=2.2152018547058105\n",
      "Epoch 5: loss=0.5210074186325073\n",
      "Epoch 10: loss=0.4173167943954468\n",
      "Epoch 15: loss=0.3808993101119995\n",
      "Epoch 20: loss=0.3639634847640991\n",
      "Epoch 25: loss=0.35442572832107544\n",
      "Epoch 30: loss=0.348349392414093\n",
      "Epoch 35: loss=0.3441668152809143\n",
      "Epoch 40: loss=0.34114208817481995\n",
      "Epoch 45: loss=0.3388802707195282\n",
      "Epoch 50: loss=0.33714646100997925\n",
      "Epoch 55: loss=0.33579057455062866\n",
      "Epoch 60: loss=0.3347121477127075\n",
      "Epoch 65: loss=0.33384135365486145\n",
      "Epoch 70: loss=0.33312883973121643\n",
      "Epoch 75: loss=0.3325386941432953\n",
      "Epoch 80: loss=0.33204466104507446\n",
      "Epoch 85: loss=0.33162710070610046\n",
      "Epoch 90: loss=0.3312709927558899\n",
      "Epoch 95: loss=0.3309650123119354\n"
     ]
    }
   ],
   "source": [
    "# Number of epochs\n",
    "num_epochs = 100\n",
    "losses = []\n",
    "val_losses = []\n",
    "\n",
    "for epoch in range(num_epochs):\n",
    "    # Zero the gradient\n",
    "    optimizer.zero_grad()\n",
    "    \n",
    "    # Forward pass and calculate the loss\n",
    "    y_hat = model(X_train)\n",
    "    loss = criterion(y_hat, y_train)\n",
    "    with torch.no_grad():\n",
    "        y_val_hat = model(X_val)\n",
    "        val_loss = criterion(y_val_hat, y_val)\n",
    "        val_losses.append(val_loss.item())  # Record for examination\n",
    "    \n",
    "    losses.append(loss.item())  # Record for examination\n",
    "    \n",
    "    # Backward pass and apply the gradient\n",
    "    loss.backward()\n",
    "    optimizer.step()\n",
    "    \n",
    "    # Print the  progress every 5 epochs\n",
    "    if epoch % 5 == 0:\n",
    "        print(f\"Epoch {epoch}: loss={loss.item()}\")"
   ]
  },
  {
   "cell_type": "markdown",
   "id": "652e783c",
   "metadata": {},
   "source": [
    "### Tesing the model"
   ]
  },
  {
   "cell_type": "code",
   "execution_count": 423,
   "id": "911a3db8",
   "metadata": {},
   "outputs": [
    {
     "name": "stdout",
     "output_type": "stream",
     "text": [
      "0.29588088393211365\n"
     ]
    }
   ],
   "source": [
    "# Test the model on the test set\n",
    "y_test_hat = model(X_test).detach()\n",
    "print(criterion(y_test_hat, y_test).item())"
   ]
  },
  {
   "cell_type": "markdown",
   "id": "efd93e40",
   "metadata": {},
   "source": [
    "#### Examine the parameters"
   ]
  },
  {
   "cell_type": "code",
   "execution_count": 424,
   "id": "2fc9a713",
   "metadata": {},
   "outputs": [
    {
     "name": "stdout",
     "output_type": "stream",
     "text": [
      "Weights: [[-0.14386442  0.10939742 -0.060853    0.09770123 -0.23578307  0.47870877\n",
      "  -0.16330446 -0.40589204  0.14943807 -0.08289818 -0.23269284  0.16148415]]\n",
      "Bias: [-0.00723322]\n"
     ]
    }
   ],
   "source": [
    "print(f\"Weights: {model.weight.data.numpy()}\\nBias: {model.bias.data.numpy()}\")"
   ]
  },
  {
   "cell_type": "markdown",
   "id": "63827ff7",
   "metadata": {},
   "source": [
    "#### Plotting out the loss through epochs"
   ]
  },
  {
   "cell_type": "code",
   "execution_count": 425,
   "id": "3f9f9f08",
   "metadata": {},
   "outputs": [
    {
     "data": {
      "image/png": "[encoded data removed]",
      "text/plain": [
       "<Figure size 640x480 with 1 Axes>"
      ]
     },
     "metadata": {},
     "output_type": "display_data"
    }
   ],
   "source": [
    "plt.xlabel(\"epoch\")\n",
    "plt.ylabel(\"loss\")\n",
    "plt.plot(losses, c=\"red\")\n",
    "plt.plot(val_losses)\n",
    "plt.legend([\"train_loss\", \"val_loss\"])\n",
    "plt.show()"
   ]
  },
  {
   "cell_type": "markdown",
   "id": "5d1ae7ea",
   "metadata": {},
   "source": [
    "### Change the scale of the model's output to account for the standardization\n",
    "\n",
    "**Assumptions**: the mean and std of the training set is std of the population.\n",
    "\n",
    "Note that we have $${{y-\\mu_y}\\over\\sigma_y} = {{\\bold{x}-\\mu_{\\bold{x}}}\\over\\sigma_{\\bold{x}}} \\cdot \\bold{w} + b$$\n",
    "Then, we get $$y = \\mu_y + \\sigma_y{\\bold{x}\\cdot\\bold{w}-\\mu_{\\bold{x}}\\over\\sigma_{\\bold{x}}} + b\\sigma_y$$"
   ]
  },
  {
   "cell_type": "code",
   "execution_count": 426,
   "id": "84baccde",
   "metadata": {},
   "outputs": [],
   "source": [
    "def model_scaled(X):\n",
    "    return (mu_y + sigma_y*(((X-mu_X)/sigma_X) @ model.weight.data.numpy().T) + model.bias.data.numpy() * sigma_y)"
   ]
  },
  {
   "cell_type": "code",
   "execution_count": 427,
   "id": "bf966b14",
   "metadata": {},
   "outputs": [
    {
     "data": {
      "text/plain": [
       "238.81655907913628"
      ]
     },
     "execution_count": 427,
     "metadata": {},
     "output_type": "execute_result"
    }
   ],
   "source": [
    "# Real loss (in terms of dollars)\n",
    "(1/outputs.shape[0]) * np.sqrt(np.abs(model_scaled(inputs[402:])**2 - outputs[402:]**2).sum()) * 1000"
   ]
  }
 ],
 "metadata": {
  "kernelspec": {
   "display_name": "base",
   "language": "python",
   "name": "python3"
  },
  "language_info": {
   "codemirror_mode": {
    "name": "ipython",
    "version": 3
   },
   "file_extension": ".py",
   "mimetype": "text/x-python",
   "name": "python",
   "nbconvert_exporter": "python",
   "pygments_lexer": "ipython3",
   "version": "3.12.7"
  }
 },
 "nbformat": 4,
 "nbformat_minor": 5
}
