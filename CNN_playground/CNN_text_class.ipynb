{
 "cells": [
  {
   "cell_type": "markdown",
   "id": "f2a2f4f9",
   "metadata": {},
   "source": [
    "# Text classification with CNN\n",
    "\n",
    "Similar to images, words that are close together tends to have some connections in meanings. For example, the word \"the\" is often and in fact always followed by a noun. Thus, CNN may be able to help with analyzing texts. "
   ]
  },
  {
   "cell_type": "code",
   "execution_count": 45,
   "id": "5bdf52aa",
   "metadata": {},
   "outputs": [],
   "source": [
    "import torch\n",
    "from torch import nn, optim\n",
    "import torch.nn.functional as F\n",
    "import numpy as np\n",
    "import matplotlib.pyplot as plt\n",
    "import pandas as pd\n",
    "\n",
    "from nltk.tokenize import word_tokenize\n",
    "from sklearn.model_selection import train_test_split"
   ]
  },
  {
   "cell_type": "markdown",
   "id": "2a1d5957",
   "metadata": {},
   "source": [
    "## Load in the data"
   ]
  },
  {
   "cell_type": "code",
   "execution_count": 7,
   "id": "a1b76651",
   "metadata": {},
   "outputs": [],
   "source": [
    "df = pd.read_csv(\"spam.csv\", encoding=\"ISO-8859-1\", usecols=[0, 1])"
   ]
  },
  {
   "cell_type": "code",
   "execution_count": 8,
   "id": "b0e3ab83",
   "metadata": {},
   "outputs": [
    {
     "data": {
      "text/html": [
       "<div>\n",
       "<style scoped>\n",
       "    .dataframe tbody tr th:only-of-type {\n",
       "        vertical-align: middle;\n",
       "    }\n",
       "\n",
       "    .dataframe tbody tr th {\n",
       "        vertical-align: top;\n",
       "    }\n",
       "\n",
       "    .dataframe thead th {\n",
       "        text-align: right;\n",
       "    }\n",
       "</style>\n",
       "<table border=\"1\" class=\"dataframe\">\n",
       "  <thead>\n",
       "    <tr style=\"text-align: right;\">\n",
       "      <th></th>\n",
       "      <th>v1</th>\n",
       "      <th>v2</th>\n",
       "    </tr>\n",
       "  </thead>\n",
       "  <tbody>\n",
       "    <tr>\n",
       "      <th>0</th>\n",
       "      <td>ham</td>\n",
       "      <td>Go until jurong point, crazy.. Available only ...</td>\n",
       "    </tr>\n",
       "    <tr>\n",
       "      <th>1</th>\n",
       "      <td>ham</td>\n",
       "      <td>Ok lar... Joking wif u oni...</td>\n",
       "    </tr>\n",
       "    <tr>\n",
       "      <th>2</th>\n",
       "      <td>spam</td>\n",
       "      <td>Free entry in 2 a wkly comp to win FA Cup fina...</td>\n",
       "    </tr>\n",
       "    <tr>\n",
       "      <th>3</th>\n",
       "      <td>ham</td>\n",
       "      <td>U dun say so early hor... U c already then say...</td>\n",
       "    </tr>\n",
       "    <tr>\n",
       "      <th>4</th>\n",
       "      <td>ham</td>\n",
       "      <td>Nah I don't think he goes to usf, he lives aro...</td>\n",
       "    </tr>\n",
       "  </tbody>\n",
       "</table>\n",
       "</div>"
      ],
      "text/plain": [
       "     v1                                                 v2\n",
       "0   ham  Go until jurong point, crazy.. Available only ...\n",
       "1   ham                      Ok lar... Joking wif u oni...\n",
       "2  spam  Free entry in 2 a wkly comp to win FA Cup fina...\n",
       "3   ham  U dun say so early hor... U c already then say...\n",
       "4   ham  Nah I don't think he goes to usf, he lives aro..."
      ]
     },
     "execution_count": 8,
     "metadata": {},
     "output_type": "execute_result"
    }
   ],
   "source": [
    "df.head()"
   ]
  },
  {
   "cell_type": "code",
   "execution_count": 11,
   "id": "b9f25a9f",
   "metadata": {},
   "outputs": [
    {
     "data": {
      "text/html": [
       "<div>\n",
       "<style scoped>\n",
       "    .dataframe tbody tr th:only-of-type {\n",
       "        vertical-align: middle;\n",
       "    }\n",
       "\n",
       "    .dataframe tbody tr th {\n",
       "        vertical-align: top;\n",
       "    }\n",
       "\n",
       "    .dataframe thead th {\n",
       "        text-align: right;\n",
       "    }\n",
       "</style>\n",
       "<table border=\"1\" class=\"dataframe\">\n",
       "  <thead>\n",
       "    <tr style=\"text-align: right;\">\n",
       "      <th></th>\n",
       "      <th>v1</th>\n",
       "      <th>v2</th>\n",
       "    </tr>\n",
       "  </thead>\n",
       "  <tbody>\n",
       "    <tr>\n",
       "      <th>0</th>\n",
       "      <td>0</td>\n",
       "      <td>Go until jurong point, crazy.. Available only ...</td>\n",
       "    </tr>\n",
       "    <tr>\n",
       "      <th>1</th>\n",
       "      <td>0</td>\n",
       "      <td>Ok lar... Joking wif u oni...</td>\n",
       "    </tr>\n",
       "    <tr>\n",
       "      <th>2</th>\n",
       "      <td>1</td>\n",
       "      <td>Free entry in 2 a wkly comp to win FA Cup fina...</td>\n",
       "    </tr>\n",
       "    <tr>\n",
       "      <th>3</th>\n",
       "      <td>0</td>\n",
       "      <td>U dun say so early hor... U c already then say...</td>\n",
       "    </tr>\n",
       "    <tr>\n",
       "      <th>4</th>\n",
       "      <td>0</td>\n",
       "      <td>Nah I don't think he goes to usf, he lives aro...</td>\n",
       "    </tr>\n",
       "  </tbody>\n",
       "</table>\n",
       "</div>"
      ],
      "text/plain": [
       "   v1                                                 v2\n",
       "0   0  Go until jurong point, crazy.. Available only ...\n",
       "1   0                      Ok lar... Joking wif u oni...\n",
       "2   1  Free entry in 2 a wkly comp to win FA Cup fina...\n",
       "3   0  U dun say so early hor... U c already then say...\n",
       "4   0  Nah I don't think he goes to usf, he lives aro..."
      ]
     },
     "execution_count": 11,
     "metadata": {},
     "output_type": "execute_result"
    }
   ],
   "source": [
    "# Convert the labels to {0, 1}\n",
    "df[\"v1\"] = df[\"v1\"].map({\"spam\": 1, \"ham\": 0})\n",
    "df.head()"
   ]
  },
  {
   "cell_type": "code",
   "execution_count": 18,
   "id": "4018d02f",
   "metadata": {},
   "outputs": [],
   "source": [
    "# Split the dataset\n",
    "df_train, df_test = train_test_split(df, test_size=0.2)"
   ]
  },
  {
   "cell_type": "code",
   "execution_count": 32,
   "id": "ece1a902",
   "metadata": {},
   "outputs": [
    {
     "data": {
      "text/plain": [
       "(8914, 2230)"
      ]
     },
     "execution_count": 32,
     "metadata": {},
     "output_type": "execute_result"
    }
   ],
   "source": [
    "df_train.size, df_test.size"
   ]
  },
  {
   "cell_type": "code",
   "execution_count": null,
   "id": "b5e254d3",
   "metadata": {},
   "outputs": [],
   "source": [
    "# Create the vocabulary map (base on the train set only)\n",
    "token2int = {\"<unk>\": 0, \"<pad>\": 1}\n",
    "idx = 2\n",
    "for row in df_train['v2']:\n",
    "    for token in word_tokenize(row):\n",
    "        token2int.setdefault(token, idx)\n",
    "        idx += 1 if token2int[token] == idx else 0"
   ]
  },
  {
   "cell_type": "code",
   "execution_count": 20,
   "id": "8eb9ec93",
   "metadata": {},
   "outputs": [
    {
     "data": {
      "text/plain": [
       "10247"
      ]
     },
     "execution_count": 20,
     "metadata": {},
     "output_type": "execute_result"
    }
   ],
   "source": [
    "# Vocab size\n",
    "len(token2int)"
   ]
  },
  {
   "cell_type": "code",
   "execution_count": 62,
   "id": "284415a4",
   "metadata": {},
   "outputs": [],
   "source": [
    "# Converting a text to a sequence of ints\n",
    "def convert_text(text: str):\n",
    "    # Tokenize the text\n",
    "    tokens = word_tokenize(text)\n",
    "    \n",
    "    # Map the tokens to integers\n",
    "    embed_idx = [0] * len(tokens)\n",
    "    for i in range(len(tokens)):\n",
    "        embed_idx[i] = token2int[tokens[i]] if tokens[i] in token2int else token2int['<unk>']\n",
    "    return embed_idx"
   ]
  },
  {
   "cell_type": "code",
   "execution_count": 69,
   "id": "4e338734",
   "metadata": {},
   "outputs": [],
   "source": [
    "X_train = list(df_train['v2'].map(convert_text))\n",
    "y_train = df_train['v1']\n",
    "X_test = list(df_test['v2'].map(convert_text))\n",
    "y_test = df_test['v1']"
   ]
  },
  {
   "cell_type": "code",
   "execution_count": 71,
   "id": "58af7bcb",
   "metadata": {},
   "outputs": [
    {
     "data": {
      "text/plain": [
       "(4457, 1115)"
      ]
     },
     "execution_count": 71,
     "metadata": {},
     "output_type": "execute_result"
    }
   ],
   "source": [
    "len(X_train), len(X_test)"
   ]
  },
  {
   "cell_type": "code",
   "execution_count": 74,
   "id": "b7d74259",
   "metadata": {},
   "outputs": [],
   "source": [
    "# Data generator for generating embeded samples\n",
    "def data_generator(X, labels, vocab, batch_size=32):\n",
    "    assert len(X) == len(labels)\n",
    "    # Compute the number of batches\n",
    "    num_batches = int(np.ceil(len(X) // batch_size))\n",
    "    for idx in range(num_batches):\n",
    "        end = min((idx + 1) * num_batches, len(X))\n",
    "        X_batch = X[idx * batch_size: end]\n",
    "        y_batch = labels[idx * batch_size: end]\n",
    "\n",
    "        # Apply padding\n",
    "        max_len = max([len(x) for x in X_batch])\n",
    "        for j in range(len(X_batch)):\n",
    "            X_batch[j] = [vocab[\"<pad>\"]] * (max_len - len(X_batch[j])) + X_batch[j]\n",
    "        \n",
    "        # Convert to torch tensors\n",
    "        X_batch = torch.from_numpy(np.array(X_batch).astype(np.float32)).long()\n",
    "        y_batch = torch.from_numpy(np.array(y_batch).astype(np.float32)).view(-1, 1)\n",
    "        \n",
    "        yield X_batch, y_batch"
   ]
  },
  {
   "cell_type": "markdown",
   "id": "56e455d7",
   "metadata": {},
   "source": [
    "## Build the model"
   ]
  },
  {
   "cell_type": "code",
   "execution_count": 66,
   "id": "298cc739",
   "metadata": {},
   "outputs": [],
   "source": [
    "class CNN_Text(nn.Module):\n",
    "    def __init__(self, vocab_size, embed_dim, num_outputs):\n",
    "        super(CNN_Text, self).__init__()\n",
    "        \n",
    "        self.V = vocab_size\n",
    "        self.E = embed_dim\n",
    "        self.K = num_outputs\n",
    "        \n",
    "        # Create the layers\n",
    "        # Embedding layer\n",
    "        self.embed = nn.Embedding(self.V, self.E)\n",
    "        \n",
    "        # CNN layers\n",
    "        self.conv1 = nn.Conv1d(in_channels=self.E, out_channels=32, kernel_size=3, padding=1)\n",
    "        self.pool1 = nn.MaxPool1d(2)\n",
    "        self.conv2 = nn.Conv1d(in_channels=32, out_channels=64, kernel_size=3, padding=1)\n",
    "        self.pool2 = nn.MaxPool1d(2)\n",
    "        self.conv3 = nn.Conv1d(in_channels=64, out_channels=128, kernel_size=3, padding=1)\n",
    "        \n",
    "        # Linear layers\n",
    "        self.fc = nn.Linear(in_features=128, out_features=self.K)\n",
    "        \n",
    "    def forward(self, X):\n",
    "        # Embed the data\n",
    "        out = self.embed(X)\n",
    "        \n",
    "        # Go through the conv layers\n",
    "        # Reshape the data from (N, L, E) to be (N, E, L)\n",
    "        out = out.permute(0, 2, 1)\n",
    "        \n",
    "        out = self.conv1(out)\n",
    "        out = F.relu(out)\n",
    "        out = self.pool1(out)\n",
    "        out = self.conv2(out)\n",
    "        out = F.relu(out)\n",
    "        out = self.pool2(out)\n",
    "        out = self.conv3(out)\n",
    "        out = F.relu(out)\n",
    "        \n",
    "        # Do a max pool, which also reshape the output to (N, D)\n",
    "        out, _ = torch.max(out, 2)\n",
    "        \n",
    "        # Dense layer\n",
    "        out = self.fc(out)\n",
    "        return out"
   ]
  },
  {
   "cell_type": "code",
   "execution_count": 47,
   "id": "43ac1c38",
   "metadata": {},
   "outputs": [],
   "source": [
    "def configure(model: nn.Module, device: torch.device, lr: float, optim_method=\"adam\"):\n",
    "    model.to(device)\n",
    "    criterion = nn.BCEWithLogitsLoss()\n",
    "    optimizer: optim.Optimizer\n",
    "    if optim_method == 'adam':\n",
    "        optimizer = optim.Adam(model.parameters(), lr=lr)\n",
    "    elif optim_method == \"sgd\":\n",
    "        optimizer = optim.SGD()\n",
    "    else:\n",
    "        raise Exception(\"Not a valid optimizer\")\n",
    "    return criterion, optimizer"
   ]
  },
  {
   "cell_type": "code",
   "execution_count": 81,
   "id": "df40dbd1",
   "metadata": {},
   "outputs": [],
   "source": [
    "def batch_gd(model: nn.Module, criterion: nn.Module, optimizer: optim.Optimizer, X_train, y_train, X_test, y_test, num_epochs):\n",
    "    loss_his, test_his = np.zeros(num_epochs), np.zeros(num_epochs)\n",
    "    \n",
    "    for epoch in range(num_epochs):\n",
    "        train_losses = []\n",
    "        for X, y in data_generator(X_train, y_train, token2int):\n",
    "            # Zero the gradient\n",
    "            optimizer.zero_grad()\n",
    "            \n",
    "            # Forward pass\n",
    "            y_hat = model(X)\n",
    "            train_loss = criterion(y_hat, y)\n",
    "            train_losses.append(train_loss.item())\n",
    "            \n",
    "            # Backward pass\n",
    "            train_loss.backward()\n",
    "            optimizer.step()\n",
    "        \n",
    "        # Average loss in epoch\n",
    "        loss_his[epoch] = np.mean(train_losses)\n",
    "        \n",
    "        test_losses = []\n",
    "        for X, y in data_generator(X_test, y_test, token2int):\n",
    "            # Forward pass\n",
    "            y_hat = model(X)\n",
    "            test_loss = criterion(y_hat, y)\n",
    "            test_losses.append(test_loss.item())\n",
    "        \n",
    "        # Average loss in epoch\n",
    "        test_his[epoch] = np.mean(test_losses)\n",
    "    return loss_his, test_his"
   ]
  },
  {
   "cell_type": "markdown",
   "id": "2febafd5",
   "metadata": {},
   "source": [
    "## Train the model"
   ]
  },
  {
   "cell_type": "code",
   "execution_count": 51,
   "id": "40e5402c",
   "metadata": {},
   "outputs": [],
   "source": [
    "# Hyperparameters\n",
    "lr = 0.01\n",
    "optim_method = 'adam'\n",
    "num_epochs = 20"
   ]
  },
  {
   "cell_type": "code",
   "execution_count": 82,
   "id": "fd1ce206",
   "metadata": {},
   "outputs": [],
   "source": [
    "model = CNN_Text(len(token2int), 20, 1)\n",
    "device = torch.device(\"cuda:0\" if torch.cuda.is_available() else \"cpu\")\n",
    "criterion, optimizer = configure(model, device, lr, optim_method)"
   ]
  },
  {
   "cell_type": "code",
   "execution_count": 83,
   "id": "2650c989",
   "metadata": {},
   "outputs": [],
   "source": [
    "# Train the model\n",
    "loss_his, test_his = batch_gd(model, criterion, optimizer, X_train, y_train, X_test, y_test, num_epochs)"
   ]
  },
  {
   "cell_type": "markdown",
   "id": "6d252500",
   "metadata": {},
   "source": [
    "## Evaluate the model"
   ]
  },
  {
   "cell_type": "code",
   "execution_count": 87,
   "id": "e9d2b8c9",
   "metadata": {},
   "outputs": [
    {
     "data": {
      "image/png": "[encoded data removed]",
      "text/plain": [
       "<Figure size 640x480 with 1 Axes>"
      ]
     },
     "metadata": {},
     "output_type": "display_data"
    }
   ],
   "source": [
    "# PLot the loss over time\n",
    "plt.title(\"loss over time\")\n",
    "plt.xlabel(\"epoch\")\n",
    "plt.ylabel(\"loss\")\n",
    "plt.plot(loss_his, label=\"train loss\")\n",
    "plt.plot(test_his, label=\"test loss\")\n",
    "plt.legend()\n",
    "plt.show()"
   ]
  },
  {
   "cell_type": "code",
   "execution_count": 93,
   "id": "6f696be8",
   "metadata": {},
   "outputs": [],
   "source": [
    "# Compute the accuracy\n",
    "def compute_accuracy(model, data_loader):\n",
    "    n_correct, n_total = 0, 0\n",
    "    for X, y in data_loader():\n",
    "        y_hat = model(X)\n",
    "        preds = (y_hat > 0)\n",
    "        n_correct += (preds == y).sum().item()\n",
    "        n_total += y.size(0)\n",
    "    return n_correct / n_total"
   ]
  },
  {
   "cell_type": "code",
   "execution_count": 91,
   "id": "f3747582",
   "metadata": {},
   "outputs": [],
   "source": [
    "train_loader = lambda: data_generator(X_train, y_train, token2int)\n",
    "test_loader = lambda: data_generator(X_test, y_test, token2int)"
   ]
  },
  {
   "cell_type": "code",
   "execution_count": 94,
   "id": "615270b9",
   "metadata": {},
   "outputs": [
    {
     "name": "stdout",
     "output_type": "stream",
     "text": [
      "Train acc=1.0; Test acc=0.9874439461883409\n"
     ]
    }
   ],
   "source": [
    "print(f\"Train acc={compute_accuracy(model, train_loader)}; Test acc={compute_accuracy(model, test_loader)}\")"
   ]
  },
  {
   "cell_type": "markdown",
   "id": "da31898e",
   "metadata": {},
   "source": [
    "Wow! Quite 100% training acc but isn't overfitting. It may mean that   "
   ]
  },
  {
   "cell_type": "code",
   "execution_count": 108,
   "id": "962095a8",
   "metadata": {},
   "outputs": [
    {
     "name": "stdout",
     "output_type": "stream",
     "text": [
      "We have pizza if u want\n",
      "Ground truth: ham \n",
      "Pred:spam\n"
     ]
    }
   ],
   "source": [
    "# Make some prediction\n",
    "index = 80\n",
    "x = df_test.iloc[index]['v2']\n",
    "y = df_test.iloc[index]['v1']\n",
    "embed_vec = torch.from_numpy(np.array(convert_text(x)).astype(np.float32)).long()\n",
    "preds = (model(embed_vec.view(-1, embed_vec.size(0))) > 0)\n",
    "print(f\"{x}\\nGround truth: {'spam' if y == 1 else 'ham'} \\nPred:{'spam' if preds > 0 else 'ham'}\")"
   ]
  }
 ],
 "metadata": {
  "kernelspec": {
   "display_name": "base",
   "language": "python",
   "name": "python3"
  },
  "language_info": {
   "codemirror_mode": {
    "name": "ipython",
    "version": 3
   },
   "file_extension": ".py",
   "mimetype": "text/x-python",
   "name": "python",
   "nbconvert_exporter": "python",
   "pygments_lexer": "ipython3",
   "version": "3.12.7"
  }
 },
 "nbformat": 4,
 "nbformat_minor": 5
}
