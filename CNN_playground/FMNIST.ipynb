{
 "cells": [
  {
   "cell_type": "markdown",
   "id": "43f9a46b",
   "metadata": {},
   "source": [
    "# Fashion MNIST with CNN"
   ]
  },
  {
   "cell_type": "code",
   "execution_count": 4,
   "id": "bd9a3dc6",
   "metadata": {},
   "outputs": [],
   "source": [
    "import torch\n",
    "import torch.nn as nn\n",
    "import torch.optim as optim\n",
    "from torchvision.datasets import FashionMNIST\n",
    "from torchvision.transforms import ToTensor\n",
    "from torch.utils.data import DataLoader"
   ]
  },
  {
   "cell_type": "code",
   "execution_count": 2,
   "id": "b17a18b2",
   "metadata": {},
   "outputs": [],
   "source": [
    "import numpy as np\n",
    "import matplotlib.pyplot as plt"
   ]
  },
  {
   "cell_type": "markdown",
   "id": "25b4443d",
   "metadata": {},
   "source": [
    "### Load the training dataset"
   ]
  },
  {
   "cell_type": "code",
   "execution_count": 7,
   "id": "9fa41649",
   "metadata": {},
   "outputs": [
    {
     "name": "stdout",
     "output_type": "stream",
     "text": [
      "Downloading http://fashion-mnist.s3-website.eu-central-1.amazonaws.com/train-images-idx3-ubyte.gz\n",
      "Downloading http://fashion-mnist.s3-website.eu-central-1.amazonaws.com/train-images-idx3-ubyte.gz to .\\FashionMNIST\\raw\\train-images-idx3-ubyte.gz\n"
     ]
    },
    {
     "name": "stderr",
     "output_type": "stream",
     "text": [
      "100%|██████████| 26.4M/26.4M [02:22<00:00, 185kB/s] \n"
     ]
    },
    {
     "name": "stdout",
     "output_type": "stream",
     "text": [
      "Extracting .\\FashionMNIST\\raw\\train-images-idx3-ubyte.gz to .\\FashionMNIST\\raw\n",
      "\n",
      "Downloading http://fashion-mnist.s3-website.eu-central-1.amazonaws.com/train-labels-idx1-ubyte.gz\n",
      "Downloading http://fashion-mnist.s3-website.eu-central-1.amazonaws.com/train-labels-idx1-ubyte.gz to .\\FashionMNIST\\raw\\train-labels-idx1-ubyte.gz\n"
     ]
    },
    {
     "name": "stderr",
     "output_type": "stream",
     "text": [
      "100%|██████████| 29.5k/29.5k [00:00<00:00, 329kB/s]\n"
     ]
    },
    {
     "name": "stdout",
     "output_type": "stream",
     "text": [
      "Extracting .\\FashionMNIST\\raw\\train-labels-idx1-ubyte.gz to .\\FashionMNIST\\raw\n",
      "\n",
      "Downloading http://fashion-mnist.s3-website.eu-central-1.amazonaws.com/t10k-images-idx3-ubyte.gz\n",
      "Downloading http://fashion-mnist.s3-website.eu-central-1.amazonaws.com/t10k-images-idx3-ubyte.gz to .\\FashionMNIST\\raw\\t10k-images-idx3-ubyte.gz\n"
     ]
    },
    {
     "name": "stderr",
     "output_type": "stream",
     "text": [
      "100%|██████████| 4.42M/4.42M [00:15<00:00, 282kB/s]\n"
     ]
    },
    {
     "name": "stdout",
     "output_type": "stream",
     "text": [
      "Extracting .\\FashionMNIST\\raw\\t10k-images-idx3-ubyte.gz to .\\FashionMNIST\\raw\n",
      "\n",
      "Downloading http://fashion-mnist.s3-website.eu-central-1.amazonaws.com/t10k-labels-idx1-ubyte.gz\n",
      "Downloading http://fashion-mnist.s3-website.eu-central-1.amazonaws.com/t10k-labels-idx1-ubyte.gz to .\\FashionMNIST\\raw\\t10k-labels-idx1-ubyte.gz\n"
     ]
    },
    {
     "name": "stderr",
     "output_type": "stream",
     "text": [
      "100%|██████████| 5.15k/5.15k [00:00<00:00, 1.34MB/s]"
     ]
    },
    {
     "name": "stdout",
     "output_type": "stream",
     "text": [
      "Extracting .\\FashionMNIST\\raw\\t10k-labels-idx1-ubyte.gz to .\\FashionMNIST\\raw\n",
      "\n"
     ]
    },
    {
     "name": "stderr",
     "output_type": "stream",
     "text": [
      "\n"
     ]
    }
   ],
   "source": [
    "train_dataset = FashionMNIST(\n",
    "    root=\".\",\n",
    "    train=True,\n",
    "    transform=ToTensor(),\n",
    "    download=True\n",
    ")"
   ]
  },
  {
   "cell_type": "markdown",
   "id": "23f96b96",
   "metadata": {},
   "source": [
    "### Load the test dataset"
   ]
  },
  {
   "cell_type": "code",
   "execution_count": 8,
   "id": "9d66ca3e",
   "metadata": {},
   "outputs": [],
   "source": [
    "test_dataset = FashionMNIST(\n",
    "    root=\".\",\n",
    "    train=False,\n",
    "    transform=ToTensor(),\n",
    "    download=False\n",
    ")"
   ]
  },
  {
   "cell_type": "markdown",
   "id": "b084b098",
   "metadata": {},
   "source": [
    "### Examine the data"
   ]
  },
  {
   "cell_type": "code",
   "execution_count": 9,
   "id": "8798d0b6",
   "metadata": {},
   "outputs": [
    {
     "data": {
      "text/plain": [
       "(torch.Size([60000, 28, 28]),\n",
       " torch.Size([60000]),\n",
       " torch.Size([10000, 28, 28]),\n",
       " torch.Size([10000]))"
      ]
     },
     "execution_count": 9,
     "metadata": {},
     "output_type": "execute_result"
    }
   ],
   "source": [
    "train_dataset.data.shape, train_dataset.targets.shape, test_dataset.data.shape, test_dataset.targets.shape"
   ]
  },
  {
   "cell_type": "code",
   "execution_count": 10,
   "id": "0f995986",
   "metadata": {},
   "outputs": [
    {
     "data": {
      "text/plain": [
       "(tensor(0, dtype=torch.uint8), tensor(255, dtype=torch.uint8))"
      ]
     },
     "execution_count": 10,
     "metadata": {},
     "output_type": "execute_result"
    }
   ],
   "source": [
    "torch.min(train_dataset.data), torch.max(train_dataset.data)"
   ]
  },
  {
   "cell_type": "code",
   "execution_count": null,
   "id": "edf0bb4a",
   "metadata": {},
   "outputs": [
    {
     "data": {
      "text/plain": [
       "(tensor(0), tensor(9))"
      ]
     },
     "execution_count": 17,
     "metadata": {},
     "output_type": "execute_result"
    }
   ],
   "source": [
    "# How many classes\n",
    "torch.min(train_dataset.targets), torch.max(train_dataset.targets)"
   ]
  },
  {
   "cell_type": "code",
   "execution_count": 12,
   "id": "9f2b5e75",
   "metadata": {},
   "outputs": [
    {
     "data": {
      "image/png": "[encoded data removed]",
      "text/plain": [
       "<Figure size 640x480 with 1 Axes>"
      ]
     },
     "metadata": {},
     "output_type": "display_data"
    }
   ],
   "source": [
    "# Sample image\n",
    "plt.imshow(train_dataset.data[3], cmap=\"grey\")\n",
    "plt.show()"
   ]
  },
  {
   "cell_type": "markdown",
   "id": "87b118d0",
   "metadata": {},
   "source": [
    "### Data Loader for train set and test set"
   ]
  },
  {
   "cell_type": "code",
   "execution_count": 78,
   "id": "d1ede548",
   "metadata": {},
   "outputs": [],
   "source": [
    "train_loader = DataLoader(train_dataset, shuffle=True, batch_size=128)\n",
    "test_loader = DataLoader(test_dataset, shuffle=False, batch_size=128)"
   ]
  },
  {
   "cell_type": "markdown",
   "id": "4f6cbe15",
   "metadata": {},
   "source": [
    "### Configure the device"
   ]
  },
  {
   "cell_type": "code",
   "execution_count": 23,
   "id": "802d9143",
   "metadata": {},
   "outputs": [
    {
     "data": {
      "text/plain": [
       "device(type='cpu')"
      ]
     },
     "execution_count": 23,
     "metadata": {},
     "output_type": "execute_result"
    }
   ],
   "source": [
    "device = torch.device(\"cuda:0\" if torch.cuda.is_available() else \"cpu\")\n",
    "device"
   ]
  },
  {
   "cell_type": "markdown",
   "id": "deb2c235",
   "metadata": {},
   "source": [
    "### Build the model (CNN architecture)"
   ]
  },
  {
   "cell_type": "code",
   "execution_count": 49,
   "id": "bf3c99a4",
   "metadata": {},
   "outputs": [],
   "source": [
    "class CNN(nn.Module):\n",
    "    def __init__(self, num_outs, num_hiddens1, drop_out):\n",
    "        super(CNN, self).__init__()\n",
    "        # Convolution layer (Stride convolution instead of using pool layers)\n",
    "        self.conv_layer = nn.Sequential(\n",
    "            nn.Conv2d(in_channels=1, out_channels=32, kernel_size=3, stride=2),\n",
    "            nn.ReLU(),\n",
    "            nn.Conv2d(in_channels=32, out_channels=64, kernel_size=3, stride=2),\n",
    "            nn.ReLU(),\n",
    "            nn.Conv2d(in_channels=64, out_channels=128, kernel_size=3, stride=2),\n",
    "            nn.ReLU(),\n",
    "        )\n",
    "        \n",
    "        # The output shape of the conv layer\n",
    "        flatten_size = 2 * 2 * 128  # H_out x W_out x # of channels\n",
    "        \n",
    "        # ANN layer\n",
    "        self.dense_layer = nn.Sequential(\n",
    "            nn.Dropout(drop_out),\n",
    "            nn.Linear(flatten_size, num_hiddens1),\n",
    "            nn.ReLU(),\n",
    "            nn.Dropout(drop_out),\n",
    "            nn.Linear(num_hiddens1, num_outs),\n",
    "        )\n",
    "    \n",
    "    def forward(self, X):\n",
    "        y_hat = self.conv_layer(X)\n",
    "        # Reshape to N by input_shape where N is the number of examples\n",
    "        y_hat = y_hat.view(y_hat.size(0), -1)\n",
    "        y_hat = self.dense_layer(y_hat)\n",
    "        return y_hat"
   ]
  },
  {
   "cell_type": "code",
   "execution_count": 50,
   "id": "c9a8e2bf",
   "metadata": {},
   "outputs": [],
   "source": [
    "def configure(model, device, lr, optim_method=\"Adam\"):\n",
    "    model.to(device)\n",
    "    criterion = nn.CrossEntropyLoss()\n",
    "    if optim_method == \"Adam\":\n",
    "        optimizer = torch.optim.Adam(model.parameters(), lr=lr)\n",
    "    else:\n",
    "        optimizer = torch.optim.SGD(model.parameters(), lr=lr)\n",
    "    return criterion, optimizer"
   ]
  },
  {
   "cell_type": "code",
   "execution_count": 51,
   "id": "d5b937ec",
   "metadata": {},
   "outputs": [],
   "source": [
    "def batch_gd(model, criterion, optimizer, device, num_epochs, train_loader, test_loader, record_loss=False):\n",
    "    # Loss over time for train set and test set\n",
    "    train_losses = np.zeros(num_epochs)\n",
    "    test_losses = np.zeros(num_epochs)\n",
    "    \n",
    "    # Train the model using batch gradient descend\n",
    "    for epoch in range(num_epochs):\n",
    "        # Train mode\n",
    "        model.train()\n",
    "        loss_epoch = []\n",
    "        # Train by batch\n",
    "        for X_train, y_train in train_loader:\n",
    "            # Move the data to the device\n",
    "            X_train, y_train = X_train.to(device), y_train.to(device)\n",
    "            \n",
    "            # Zero out the gradient\n",
    "            optimizer.zero_grad()\n",
    "            \n",
    "            # Compute the loss\n",
    "            y_hat_train = model(X_train)\n",
    "            loss = criterion(y_hat_train, y_train)\n",
    "            \n",
    "            # Record the loss\n",
    "            loss_epoch.append(loss.item())\n",
    "            \n",
    "            # Update the params\n",
    "            loss.backward()\n",
    "            optimizer.step()\n",
    "        \n",
    "        train_losses[epoch] = np.mean(loss_epoch)\n",
    "        \n",
    "        # Compute the test loss, eval mode\n",
    "        test_loss_epoch = []\n",
    "        model.eval()\n",
    "        for X_test, y_test in test_loader:\n",
    "            X_test, y_test = X_test.to(device), y_test.to(device)\n",
    "            y_hat_test = model(X_test)\n",
    "            test_loss = criterion(y_hat_test, y_test)\n",
    "            test_loss_epoch.append(test_loss.item())\n",
    "        \n",
    "        # Record average loss\n",
    "        test_losses[epoch] = np.mean(test_loss_epoch)\n",
    "        \n",
    "        if record_loss:\n",
    "            print(f\"Epoch {epoch}/{num_epochs}: train_loss={loss.item()}; test_loss={test_loss.item()}\")\n",
    "    \n",
    "    return train_losses, test_losses"
   ]
  },
  {
   "cell_type": "markdown",
   "id": "e4853558",
   "metadata": {},
   "source": [
    "### Train the model"
   ]
  },
  {
   "cell_type": "code",
   "execution_count": 52,
   "id": "1f4d6317",
   "metadata": {},
   "outputs": [],
   "source": [
    "# Output shape\n",
    "num_outs = 10\n",
    "\n",
    "# Hyperparameters\n",
    "lr = 0.001\n",
    "num_hidden1 = 512\n",
    "# num_hidden2 = 512\n",
    "drop_out_p = 0.2\n",
    "optim_method = \"Adam\"\n",
    "num_epochs = 15"
   ]
  },
  {
   "cell_type": "code",
   "execution_count": 79,
   "id": "e3fc81b3",
   "metadata": {},
   "outputs": [],
   "source": [
    "# Create the model and configure the loss and optimizer\n",
    "model = CNN(num_outs, num_hidden1, drop_out_p)\n",
    "criterion, optimizer = configure(model, device, lr, optim_method)"
   ]
  },
  {
   "cell_type": "code",
   "execution_count": 54,
   "id": "8261dfbd",
   "metadata": {},
   "outputs": [],
   "source": [
    "from time import perf_counter"
   ]
  },
  {
   "cell_type": "code",
   "execution_count": 80,
   "id": "0bc0ca32",
   "metadata": {},
   "outputs": [
    {
     "data": {
      "text/plain": [
       "'202.30s needed!'"
      ]
     },
     "execution_count": 80,
     "metadata": {},
     "output_type": "execute_result"
    }
   ],
   "source": [
    "# Train the model\n",
    "start = perf_counter()\n",
    "loss_history, test_history = batch_gd(model, criterion, optimizer, device, num_epochs,\n",
    "                                        train_loader, test_loader)\n",
    "end = perf_counter()\n",
    "f\"{end - start:.2f}s needed!\""
   ]
  },
  {
   "cell_type": "markdown",
   "id": "4a635521",
   "metadata": {},
   "source": [
    "### Plot out the loss over time"
   ]
  },
  {
   "cell_type": "code",
   "execution_count": 81,
   "id": "0dd30b66",
   "metadata": {},
   "outputs": [
    {
     "data": {
      "image/png": "[encoded data removed]",
      "text/plain": [
       "<Figure size 640x480 with 1 Axes>"
      ]
     },
     "metadata": {},
     "output_type": "display_data"
    }
   ],
   "source": [
    "plt.title(\"Loss over time\")\n",
    "plt.xlabel(\"epoch\")\n",
    "plt.ylabel(\"loss\")\n",
    "plt.plot(loss_history, label=\"train loss\")\n",
    "plt.plot(test_history, label=\"test loss\")\n",
    "plt.legend()\n",
    "plt.show()"
   ]
  },
  {
   "cell_type": "markdown",
   "id": "e715c0b6",
   "metadata": {},
   "source": [
    "### Model accuracy"
   ]
  },
  {
   "cell_type": "code",
   "execution_count": 82,
   "id": "804f9c97",
   "metadata": {},
   "outputs": [
    {
     "name": "stdout",
     "output_type": "stream",
     "text": [
      "Train accuracy: 0.9519\n"
     ]
    }
   ],
   "source": [
    "model.eval()\n",
    "\n",
    "n_correct, n_total = 0, 0\n",
    "for inputs, targets in train_loader:\n",
    "    inputs = inputs.to(device)\n",
    "    outputs = model(inputs)\n",
    "    \n",
    "    _, preds = torch.max(outputs, 1)\n",
    "    \n",
    "    n_correct += torch.sum(preds == targets).item()\n",
    "    n_total += targets.shape[0]\n",
    "print(f\"Train accuracy: {n_correct/n_total:.4f}\")"
   ]
  },
  {
   "cell_type": "code",
   "execution_count": 83,
   "id": "aeaf4f24",
   "metadata": {},
   "outputs": [
    {
     "name": "stdout",
     "output_type": "stream",
     "text": [
      "Test accuracy: 0.9023\n"
     ]
    }
   ],
   "source": [
    "n_correct, n_total = 0, 0\n",
    "for inputs, targets in test_loader:\n",
    "    inputs = inputs.to(device)\n",
    "    outputs = model(inputs)\n",
    "    \n",
    "    _, preds = torch.max(outputs, 1)\n",
    "    \n",
    "    n_correct += torch.sum(preds == targets)\n",
    "    n_total += targets.shape[0]\n",
    "print(f\"Test accuracy: {n_correct/n_total:.4f}\")"
   ]
  },
  {
   "cell_type": "markdown",
   "id": "ef3570a4",
   "metadata": {},
   "source": [
    "### Plot confusion matrix"
   ]
  },
  {
   "cell_type": "code",
   "execution_count": 57,
   "id": "0ed3fc0e",
   "metadata": {},
   "outputs": [],
   "source": [
    "import sys\n",
    "import os\n",
    "sys.path.append(os.path.abspath('../utils'))\n",
    "\n",
    "from confusion_matrix_plot import plot_confusion_matrix\n",
    "from sklearn.metrics import confusion_matrix"
   ]
  },
  {
   "cell_type": "code",
   "execution_count": 88,
   "id": "2595abb8",
   "metadata": {},
   "outputs": [
    {
     "data": {
      "text/plain": [
       "9023"
      ]
     },
     "execution_count": 88,
     "metadata": {},
     "output_type": "execute_result"
    }
   ],
   "source": [
    "x_test = test_dataset.data.numpy()\n",
    "y_test = test_dataset.targets.numpy()\n",
    "p_test = np.array([])\n",
    "for inputs, targets in test_loader:\n",
    "    inputs, targets = inputs.to(device), targets.to(device)\n",
    "    outputs = model(inputs)\n",
    "    \n",
    "    _, predictions = torch.max(outputs, 1)\n",
    "    \n",
    "    p_test = np.concatenate((p_test, predictions.cpu().numpy()))\n",
    "np.sum(y_test == p_test)"
   ]
  },
  {
   "cell_type": "code",
   "execution_count": 89,
   "id": "e4dbcf30",
   "metadata": {},
   "outputs": [
    {
     "name": "stdout",
     "output_type": "stream",
     "text": [
      "Confusion matrix with no normalization\n",
      "[[887   1  20  15   6   1  65   0   5   0]\n",
      " [  4 981   0  10   2   0   1   0   2   0]\n",
      " [ 16   0 850  10  71   0  50   0   3   0]\n",
      " [ 18  11  14 900  41   0  15   0   1   0]\n",
      " [  0   2  32  14 904   0  47   0   1   0]\n",
      " [  0   0   0   2   0 960   0  26   1  11]\n",
      " [130   1  64  29 126   0 640   0  10   0]\n",
      " [  0   0   0   0   0   3   0 967   1  29]\n",
      " [  1   2   4   2   5   2   4   6 974   0]\n",
      " [  1   1   0   0   0   6   0  32   0 960]]\n"
     ]
    },
    {
     "data": {
      "image/png": "[encoded data removed]",
      "text/plain": [
       "<Figure size 640x480 with 2 Axes>"
      ]
     },
     "metadata": {},
     "output_type": "display_data"
    }
   ],
   "source": [
    "cm = confusion_matrix(y_test, p_test)\n",
    "plot_confusion_matrix(cm, list(range(10)))"
   ]
  },
  {
   "cell_type": "code",
   "execution_count": 98,
   "id": "307659e9",
   "metadata": {},
   "outputs": [],
   "source": [
    "# Convert number to real labels\n",
    "classes = train_dataset.classes"
   ]
  },
  {
   "cell_type": "code",
   "execution_count": 103,
   "id": "b9fdc014",
   "metadata": {},
   "outputs": [
    {
     "data": {
      "image/png": "[encoded data removed]",
      "text/plain": [
       "<Figure size 640x480 with 1 Axes>"
      ]
     },
     "metadata": {},
     "output_type": "display_data"
    }
   ],
   "source": [
    "# Plot some misiden. images\n",
    "p_test = p_test.astype(np.uint8)\n",
    "misiden_idx = np.where(p_test != y_test)[0]\n",
    "idx = np.random.choice(misiden_idx)\n",
    "plt.title(f\"real label: {classes[y_test[idx]]} | predicted label: {classes[p_test[idx]]}\")\n",
    "plt.imshow(test_dataset.data[idx])\n",
    "plt.show()"
   ]
  }
 ],
 "metadata": {
  "kernelspec": {
   "display_name": "base",
   "language": "python",
   "name": "python3"
  },
  "language_info": {
   "codemirror_mode": {
    "name": "ipython",
    "version": 3
   },
   "file_extension": ".py",
   "mimetype": "text/x-python",
   "name": "python",
   "nbconvert_exporter": "python",
   "pygments_lexer": "ipython3",
   "version": "3.12.7"
  }
 },
 "nbformat": 4,
 "nbformat_minor": 5
}
