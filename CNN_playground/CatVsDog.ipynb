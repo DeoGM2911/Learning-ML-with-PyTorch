{
 "cells": [
  {
   "cell_type": "markdown",
   "id": "75c36563",
   "metadata": {},
   "source": [
    "# Cat vs Dog recognition using transfer learning"
   ]
  },
  {
   "cell_type": "code",
   "execution_count": null,
   "id": "65d78685",
   "metadata": {},
   "outputs": [],
   "source": [
    "import torch\n",
    "from torch import nn, optim\n",
    "from torch.nn import functional as F \n",
    "import numpy as np\n",
    "import matplotlib.pyplot as plt\n",
    "from torch.utils.data import DataLoader, TensorDataset\n",
    "\n",
    "from torchvision.datasets import ImageFolder\n",
    "from torchvision import transforms\n",
    "from torchvision.models.vgg import vgg11_bn, VGG11_BN_Weights\n",
    "\n",
    "from sklearn.model_selection import train_test_split\n",
    "from sklearn.preprocessing import StandardScaler"
   ]
  },
  {
   "cell_type": "code",
   "execution_count": null,
   "id": "0abbadcd",
   "metadata": {},
   "outputs": [],
   "source": [
    "# Transoforming the data for VGG network\n",
    "transform = transforms.Compose([\n",
    "    transforms.Resize(256),\n",
    "    transforms.CenterCrop(224),\n",
    "    transforms.ToTensor(),\n",
    "    transforms.Normalize([0.485, 0.456, 0.406], [0.229, 0.224, 0.225])\n",
    "])"
   ]
  },
  {
   "cell_type": "code",
   "execution_count": null,
   "id": "80053fbd",
   "metadata": {},
   "outputs": [],
   "source": [
    "# Move files into appropriate class folders\n",
    "!powershell \"mkdir catvsdog/test1/dog *>$null\"\n",
    "!powershell \"mkdir catvsdog/test1/cat *>$null\"\n",
    "!powershell \"mkdir catvsdog/train/dog *>$null\"\n",
    "!powershell \"mkdir catvsdog/train/cat *>$null\""
   ]
  },
  {
   "cell_type": "code",
   "execution_count": null,
   "id": "31abab56",
   "metadata": {},
   "outputs": [],
   "source": [
    "# Move the files into the class folders\n",
    "!powershell \"mv catvsdog/train/cat.* catvsdog/train/cat\"\n",
    "!powershell \"mv catvsdog/train/dog.* catvsdog/train/dog\""
   ]
  },
  {
   "cell_type": "code",
   "execution_count": null,
   "id": "071f0afb",
   "metadata": {},
   "outputs": [],
   "source": [
    "# Create the datasets\n",
    "dataset = ImageFolder(\n",
    "    root=\"catvsdog/train/\",\n",
    "    transform=transform,\n",
    ")"
   ]
  },
  {
   "cell_type": "code",
   "execution_count": null,
   "id": "1b3cf385",
   "metadata": {},
   "outputs": [],
   "source": [
    "train_data, test_data = train_test_split(dataset, test_size=0.2)"
   ]
  },
  {
   "cell_type": "code",
   "execution_count": null,
   "id": "a54d7b1b",
   "metadata": {},
   "outputs": [],
   "source": [
    "# Create dataloader\n",
    "train_loader = DataLoader(train_data, 32, shuffle=True)\n",
    "test_loader = DataLoader(test_data, 32)"
   ]
  },
  {
   "cell_type": "markdown",
   "id": "a15cac6b",
   "metadata": {},
   "source": [
    "### Define the model"
   ]
  },
  {
   "cell_type": "code",
   "execution_count": null,
   "id": "2a6a67ae",
   "metadata": {},
   "outputs": [],
   "source": [
    "vgg = vgg11_bn(weights=VGG11_BN_Weights.IMAGENET1K_V1, progress=False)"
   ]
  },
  {
   "cell_type": "code",
   "execution_count": 5,
   "id": "2f571e3e",
   "metadata": {},
   "outputs": [],
   "source": [
    "# Wrapper class to precompute the features vectors after passing the iamges into vgg\n",
    "class VGGFeatures(nn.Module):\n",
    "    def __init__(self, vgg_model):\n",
    "        super(VGGFeatures, self).__init__()\n",
    "        self.vgg = vgg_model\n",
    "    \n",
    "    def foward(self, X):\n",
    "        out = self.vgg(X)\n",
    "        out = self.vgg.avgpool(out)\n",
    "        out = out.view(out.size(0), -1)\n",
    "        return out"
   ]
  },
  {
   "cell_type": "code",
   "execution_count": null,
   "id": "d200b4ef",
   "metadata": {},
   "outputs": [],
   "source": [
    "vggf = VGGFeatures(vgg)\n",
    "device = torch.device(\"cuda:0\" if torch.cuda.is_available() else \"cpu\")\n",
    "vggf.to(device)"
   ]
  },
  {
   "cell_type": "code",
   "execution_count": null,
   "id": "0550e4e1",
   "metadata": {},
   "outputs": [],
   "source": [
    "# Compute size for the binary classification head\n",
    "N_train = len(train_data)\n",
    "N_test = len(test_data)\n",
    "D = vggf(torch.randn((1, 3, 224, 224))).shape[1]"
   ]
  },
  {
   "cell_type": "code",
   "execution_count": null,
   "id": "d6bb82ba",
   "metadata": {},
   "outputs": [],
   "source": [
    "# Precompute the feature vectors\n",
    "X_train, y_train = torch.zeros((N_train, D)), torch.zeros((N_train, 1))\n",
    "X_test, y_test = torch.zeros((N_test, D)), torch.zeros((N_test, 1))"
   ]
  },
  {
   "cell_type": "code",
   "execution_count": null,
   "id": "6f2eb830",
   "metadata": {},
   "outputs": [],
   "source": [
    "i = 0\n",
    "with torch.no_grad():\n",
    "    for inputs, targets in train_loader:\n",
    "        inputs = inputs.to(device)\n",
    "        out = vggf(inputs)\n",
    "        sz = len(out)\n",
    "        # Put the features extracted to X_train, y_train\n",
    "        X_train[i: i + sz] = out.cpu().detach().numpy()\n",
    "        y_train[i: i + sz] = targets.view(-1, 1).numpy()\n",
    "        \n",
    "        i += sz"
   ]
  },
  {
   "cell_type": "code",
   "execution_count": null,
   "id": "e2e00daa",
   "metadata": {},
   "outputs": [],
   "source": [
    "i = 0\n",
    "with torch.no_grad():\n",
    "    for inputs, targets in test_loader:\n",
    "        inputs = inputs.to(device)\n",
    "        out = vggf(inputs)\n",
    "        sz = len(out)\n",
    "        # Put the features extracted to X_train, y_train\n",
    "        X_test[i: i + sz] = out.cpu().detach().numpy()\n",
    "        y_test[i: i + sz] = targets.view(-1, 1).numpy()\n",
    "        \n",
    "        i += sz"
   ]
  },
  {
   "cell_type": "code",
   "execution_count": null,
   "id": "ef4daa1c",
   "metadata": {},
   "outputs": [],
   "source": [
    "# Standardize the feature vectors\n",
    "scaler =  StandardScaler()\n",
    "X_train = scaler.fit_transform(X_train)\n",
    "X_test = scaler.transform(X_test)"
   ]
  },
  {
   "cell_type": "markdown",
   "id": "b2e8b8c7",
   "metadata": {},
   "source": [
    "## Build the linear head"
   ]
  },
  {
   "cell_type": "code",
   "execution_count": null,
   "id": "d41e1192",
   "metadata": {},
   "outputs": [],
   "source": [
    "class BinaryClassifier(nn.Module):\n",
    "    def __init__(self, num_ins, num_outs, num_hiddens, drop_out):\n",
    "        super(BinaryClassifier, self).__init__()\n",
    "        self.fc1 = nn.Linear(num_ins, num_hiddens)\n",
    "        self.fc2 = nn.Linear(num_hiddens, num_outs)\n",
    "    \n",
    "    def forward(self, X):\n",
    "        out = self.fc1(X)\n",
    "        out = F.relu(X)\n",
    "        out = F.dropout(X)\n",
    "        out = self.fc2(X)\n",
    "        return out"
   ]
  },
  {
   "cell_type": "code",
   "execution_count": 7,
   "id": "0b27f513",
   "metadata": {},
   "outputs": [],
   "source": [
    "def configure(model, device, lr):\n",
    "    model.to(device)\n",
    "    criterion = nn.BCEWithLogitsLoss()\n",
    "    optimizer = optim.Adam(model.parameters(), lr=lr)\n",
    "    return criterion, optimizer"
   ]
  },
  {
   "cell_type": "code",
   "execution_count": 6,
   "id": "47910b29",
   "metadata": {},
   "outputs": [],
   "source": [
    "def batch_gd(model: nn.Module, criterion: nn.Module, optimizer: optim.Optimizer, device: torch.device,\n",
    "                train_loader: DataLoader, test_loader: DataLoader, num_epochs: int, record=False):\n",
    "    assert 0 <= num_epochs\n",
    "\n",
    "    # Record the loss over time\n",
    "    loss_history = np.zeros(num_epochs)\n",
    "    test_history = np.zeros(num_epochs)\n",
    "\n",
    "    for epoch in range(num_epochs):\n",
    "        # Train mode\n",
    "        model.train()\n",
    "\n",
    "        # Loss over the same epoch\n",
    "        loss_epoch = []\n",
    "        for inputs, targets in train_loader:\n",
    "            # Zero the gradient\n",
    "            optimizer.zero_grad()\n",
    "\n",
    "            # Move data to device\n",
    "            inputs, targets = inputs.to(device), targets.to(device)\n",
    "\n",
    "            # Forward pass\n",
    "            outs = model(inputs)\n",
    "            loss = criterion(outs, targets)\n",
    "\n",
    "            # Record the train loss\n",
    "            loss_epoch.append(loss.item())\n",
    "\n",
    "            # Backward pass\n",
    "            loss.backward()\n",
    "            optimizer.step()\n",
    "\n",
    "        # Average loss after 1 epoch\n",
    "        loss_history[epoch] = np.mean(loss_epoch)\n",
    "\n",
    "        # Eval mode\n",
    "        model.eval()\n",
    "        test_epoch = []\n",
    "        for inputs, targets in test_loader:\n",
    "            # Zero the gradient\n",
    "            optimizer.zero_grad()\n",
    "\n",
    "            inputs, targets = inputs.to(device), targets.to(device)\n",
    "\n",
    "            # Forward pass\n",
    "            outs = model(inputs)\n",
    "            test_loss = criterion(outs, targets)\n",
    "\n",
    "            # Record test loss\n",
    "            test_epoch.append(test_loss.item())\n",
    "\n",
    "        # Average loss\n",
    "        test_history[epoch] = np.mean(test_epoch)\n",
    "\n",
    "    if record:\n",
    "        print(f\"Epoch {epoch}/{num_epochs}: Train loss={loss_history[epoch]}; Test loss={test_history[epoch]}\")\n",
    "\n",
    "    return loss_history, test_history"
   ]
  },
  {
   "cell_type": "markdown",
   "id": "9f36bc3d",
   "metadata": {},
   "source": [
    "## Train the model"
   ]
  },
  {
   "cell_type": "code",
   "execution_count": null,
   "id": "cb2e962f",
   "metadata": {},
   "outputs": [],
   "source": [
    "# Hyperparameters\n",
    "lr = 0.01\n",
    "num_epochs = 20\n",
    "num_hiddens = 32768\n",
    "drop_out = 0.5"
   ]
  },
  {
   "cell_type": "code",
   "execution_count": null,
   "id": "20e0e4e1",
   "metadata": {},
   "outputs": [],
   "source": [
    "# Initiate the model and configure\n",
    "model = BinaryClassifier(D, 1, num_hiddens, drop_out)\n",
    "criterion, optimizer = configure(model, device, lr)"
   ]
  },
  {
   "cell_type": "code",
   "execution_count": null,
   "id": "caea5b91",
   "metadata": {},
   "outputs": [],
   "source": [
    "# Data loaders for features dataset\n",
    "train_feat_loader = DataLoader(TensorDataset(\n",
    "    torch.from_numpy(X_train.astype(np.float32)),\n",
    "    torch.from_numpy(y_train.astype(np.float32))\n",
    "))\n",
    "test_feat_loader = DataLoader(TensorDataset(\n",
    "    torch.from_numpy(X_test.astype(np.float32)),\n",
    "    torch.from_numpy(y_test.astype(np.float32))\n",
    "))"
   ]
  },
  {
   "cell_type": "code",
   "execution_count": null,
   "id": "c684d6e1",
   "metadata": {},
   "outputs": [],
   "source": [
    "train_his, test_his = batch_gd(model, criterion, optimizer, device, train_feat_loader,\n",
    "                                test_feat_loader, num_epochs)"
   ]
  },
  {
   "cell_type": "markdown",
   "id": "85d8890b",
   "metadata": {},
   "source": [
    "## Evaluate"
   ]
  },
  {
   "cell_type": "code",
   "execution_count": null,
   "id": "9f2c1be8",
   "metadata": {},
   "outputs": [],
   "source": [
    "# Plot the loss\n",
    "plt.tilte(\"Loss over time\")\n",
    "plt.xlabel(\"epoch\")\n",
    "plt.ylabel(\"loss\")\n",
    "plt.plot(train_his, label=\"train loss\")\n",
    "plt.plot(test_his, label=\"test loss\")\n",
    "plt.legend()\n",
    "plt.show()"
   ]
  },
  {
   "cell_type": "code",
   "execution_count": null,
   "id": "60621e6f",
   "metadata": {},
   "outputs": [],
   "source": [
    "# Compute the accuracy\n",
    "def compute_acc(model, device, data_loader):\n",
    "    n_correct, n_total = 0, 0\n",
    "    model.eval()\n",
    "    for inputs, targets in data_loader:\n",
    "        inputs = inputs.to(device)\n",
    "        outs = model(inputs)\n",
    "        preds = (outs > 0)\n",
    "        n_correct += (preds == targets).sum().item()\n",
    "        n_total += targets.size(0)\n",
    "    \n",
    "    return n_correct / n_total"
   ]
  },
  {
   "cell_type": "code",
   "execution_count": null,
   "id": "1ce6f2cf",
   "metadata": {},
   "outputs": [],
   "source": [
    "# Compute train and test accuracy\n",
    "f\"Train Acc: {compute_acc(model, device,train_feat_loader)}, \\\n",
    "Test Acc: {compute_acc(model, device, test_feat_loader)}\""
   ]
  }
 ],
 "metadata": {
  "kernelspec": {
   "display_name": "base",
   "language": "python",
   "name": "python3"
  },
  "language_info": {
   "codemirror_mode": {
    "name": "ipython",
    "version": 3
   },
   "file_extension": ".py",
   "mimetype": "text/x-python",
   "name": "python",
   "nbconvert_exporter": "python",
   "pygments_lexer": "ipython3",
   "version": "3.12.7"
  }
 },
 "nbformat": 4,
 "nbformat_minor": 5
}
