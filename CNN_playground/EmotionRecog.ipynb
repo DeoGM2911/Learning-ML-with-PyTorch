{
  "cells": [
    {
      "cell_type": "markdown",
      "id": "4c917cf6",
      "metadata": {
        "id": "4c917cf6"
      },
      "source": [
        "# Facial Expression dataset"
      ]
    },
    {
      "cell_type": "code",
      "execution_count": 1,
      "id": "c7125202",
      "metadata": {
        "id": "c7125202"
      },
      "outputs": [],
      "source": [
        "import torch\n",
        "from torch import nn, optim\n",
        "from torchvision import transforms\n",
        "from torch.utils.data import DataLoader, Dataset\n",
        "import numpy as np\n",
        "import matplotlib.pyplot as plt\n",
        "import pandas as pd"
      ]
    },
    {
      "cell_type": "code",
      "execution_count": 2,
      "id": "xSLARQsbvZ2c",
      "metadata": {
        "id": "xSLARQsbvZ2c"
      },
      "outputs": [],
      "source": [
        "from sklearn.metrics import confusion_matrix\n",
        "import numpy as np\n",
        "import itertools\n",
        "\n",
        "def plot_confusion_matrix(cm, classes, normalize=False, title='Cofusion matrix', cmap=plt.cm.Blues):\n",
        "    \"\"\"\n",
        "    This function prints and plots the confusion matrix\n",
        "    Normalization can be applied by setting normalized to True\n",
        "    \"\"\"\n",
        "    if normalize:\n",
        "        cm = cm.astype('float') / cm.sum(axis=1)[:, np.newaxis]\n",
        "        print(\"Normalized confusion matrix\")\n",
        "    else:\n",
        "        print(\"Confusion matrix with no normalization\")\n",
        "\n",
        "    print(cm)\n",
        "\n",
        "    plt.imshow(cm, interpolation='nearest', cmap=cmap)\n",
        "    plt.title(title)\n",
        "    plt.colorbar()\n",
        "    tickmarks = np.arange(len(classes))\n",
        "    plt.xticks(tickmarks, classes, rotation=45)\n",
        "    plt.yticks(tickmarks, classes)\n",
        "\n",
        "    fmt = '.2f' if normalize else 'd'\n",
        "    thresh = cm.max() / 2.\n",
        "    for i, j in itertools.product(range(cm.shape[0]), range(cm.shape[1])):\n",
        "        plt.text(j, i, format(cm[i, j], fmt),\n",
        "                 horizontalalignment=\"center\",\n",
        "                 color=\"white\" if cm[i,j] > thresh else \"black\")\n",
        "\n",
        "    plt.tight_layout()\n",
        "    plt.ylabel('True Label')\n",
        "    plt.xlabel('Predicted Label')\n",
        "    plt.show()"
      ]
    },
    {
      "cell_type": "code",
      "execution_count": 3,
      "id": "b3aadeb9",
      "metadata": {
        "id": "b3aadeb9"
      },
      "outputs": [],
      "source": [
        "from sklearn.metrics import confusion_matrix"
      ]
    },
    {
      "cell_type": "markdown",
      "id": "0b29388d",
      "metadata": {
        "id": "0b29388d"
      },
      "source": [
        "### Download the dataset"
      ]
    },
    {
      "cell_type": "code",
      "execution_count": 4,
      "id": "515a8f40",
      "metadata": {
        "colab": {
          "base_uri": "https://localhost:8080/"
        },
        "collapsed": true,
        "id": "515a8f40",
        "outputId": "17c806ad-282c-43c6-f162-cf1c32065741"
      },
      "outputs": [
        {
          "name": "stdout",
          "output_type": "stream",
          "text": [
            "--2025-04-25 16:18:43--  https://archive.org/download/fer2013_202311/fer2013.csv\n",
            "Resolving archive.org (archive.org)... 207.241.224.2\n",
            "Connecting to archive.org (archive.org)|207.241.224.2|:443... connected.\n",
            "HTTP request sent, awaiting response... 302 Found\n",
            "Location: https://ia800507.us.archive.org/35/items/fer2013_202311/fer2013.csv [following]\n",
            "--2025-04-25 16:18:43--  https://ia800507.us.archive.org/35/items/fer2013_202311/fer2013.csv\n",
            "Resolving ia800507.us.archive.org (ia800507.us.archive.org)... 207.241.230.57\n",
            "Connecting to ia800507.us.archive.org (ia800507.us.archive.org)|207.241.230.57|:443... connected.\n",
            "HTTP request sent, awaiting response... 200 OK\n",
            "Length: 301072766 (287M) [text/csv]\n",
            "Saving to: ‘fer2013.csv’\n",
            "\n",
            "fer2013.csv         100%[===================>] 287.12M  11.8MB/s    in 22s     \n",
            "\n",
            "2025-04-25 16:19:05 (13.3 MB/s) - ‘fer2013.csv’ saved [301072766/301072766]\n",
            "\n"
          ]
        }
      ],
      "source": [
        "!wget https://archive.org/download/fer2013_202311/fer2013.csv"
      ]
    },
    {
      "cell_type": "code",
      "execution_count": 5,
      "id": "e00e64ad",
      "metadata": {
        "id": "e00e64ad"
      },
      "outputs": [],
      "source": [
        "# Label encoder\n",
        "classes = np.array([\"Angry\", \"Disgust\", \"Fear\", \"Happy\", \"Sad\", \"Surprise\", \"Neutral\"])\n",
        "\n",
        "# Image size\n",
        "IM_SHAPE = 48, 48"
      ]
    },
    {
      "cell_type": "code",
      "execution_count": 6,
      "id": "0bf36e96",
      "metadata": {
        "id": "0bf36e96"
      },
      "outputs": [],
      "source": [
        "# Parse the data\n",
        "df = pd.read_csv('fer2013.csv', delimiter=\",\")"
      ]
    },
    {
      "cell_type": "markdown",
      "id": "f0421466",
      "metadata": {
        "id": "f0421466"
      },
      "source": [
        "### Process the data"
      ]
    },
    {
      "cell_type": "code",
      "execution_count": 7,
      "id": "922be63a",
      "metadata": {
        "id": "922be63a"
      },
      "outputs": [],
      "source": [
        "# Spilt the data based on the usage\n",
        "train_data = (df[df[\"Usage\"] == \"Training\"])[[\"emotion\", \"pixels\"]]\n",
        "test_data = (df[(df[\"Usage\"] == \"PrivateTest\") | (df[\"Usage\"] == \"PublicTest\")])[[\"emotion\", \"pixels\"]]"
      ]
    },
    {
      "cell_type": "code",
      "execution_count": 8,
      "id": "c3bd7d3e",
      "metadata": {
        "id": "c3bd7d3e"
      },
      "outputs": [],
      "source": [
        "# Get the labels\n",
        "y_train = train_data[[\"emotion\"]].to_numpy().reshape(-1)\n",
        "y_test = test_data[[\"emotion\"]].to_numpy().reshape(-1)\n",
        "\n",
        "# Convert the pixels into a matrix format\n",
        "X_train = np.array([np.fromstring(img, sep=\" \") for img in train_data[\"pixels\"]]).reshape(-1, *IM_SHAPE)\n",
        "X_test = np.array([np.fromstring(img, sep=\" \") for img in test_data[\"pixels\"]]).reshape(-1, *IM_SHAPE)"
      ]
    },
    {
      "cell_type": "code",
      "execution_count": 9,
      "id": "5bb6422f",
      "metadata": {
        "colab": {
          "base_uri": "https://localhost:8080/"
        },
        "id": "5bb6422f",
        "outputId": "58c2de46-4610-4359-b946-202e00642da8"
      },
      "outputs": [
        {
          "data": {
            "text/plain": [
              "(28709,)"
            ]
          },
          "execution_count": 9,
          "metadata": {},
          "output_type": "execute_result"
        }
      ],
      "source": [
        "y_train.shape"
      ]
    },
    {
      "cell_type": "code",
      "execution_count": 10,
      "id": "0dd70f51",
      "metadata": {
        "colab": {
          "base_uri": "https://localhost:8080/",
          "height": 431
        },
        "id": "0dd70f51",
        "outputId": "4cca5f39-02d0-430a-bc8b-49ba74e04e02"
      },
      "outputs": [
        {
          "data": {
            "image/png": "[encoded data removed]",
            "text/plain": [
              "<Figure size 640x480 with 1 Axes>"
            ]
          },
          "metadata": {},
          "output_type": "display_data"
        }
      ],
      "source": [
        "# Sample image\n",
        "plt.imshow(X_train[3], cmap=\"grey\")\n",
        "plt.show()"
      ]
    },
    {
      "cell_type": "markdown",
      "id": "59d24598",
      "metadata": {
        "id": "59d24598"
      },
      "source": [
        "We can see that the number of training example for class 1 is limited. -> weighted loss"
      ]
    },
    {
      "cell_type": "code",
      "execution_count": 61,
      "id": "XzVDRyE0KGqF",
      "metadata": {
        "colab": {
          "base_uri": "https://localhost:8080/"
        },
        "id": "XzVDRyE0KGqF",
        "outputId": "89456919-a86a-4507-eafb-e477afcd72d3"
      },
      "outputs": [
        {
          "data": {
            "text/plain": [
              "array([ 958,  111, 1024, 1774, 1247,  831, 1233])"
            ]
          },
          "execution_count": 61,
          "metadata": {},
          "output_type": "execute_result"
        }
      ],
      "source": [
        "_, counts_test = np.unique(y_test, return_counts=True)\n",
        "counts_test"
      ]
    },
    {
      "cell_type": "code",
      "execution_count": 11,
      "id": "4df54cdb",
      "metadata": {
        "id": "4df54cdb"
      },
      "outputs": [],
      "source": [
        "_, counts = np.unique(y_train, return_counts=True)"
      ]
    },
    {
      "cell_type": "code",
      "execution_count": 12,
      "id": "ae753c48",
      "metadata": {
        "colab": {
          "base_uri": "https://localhost:8080/"
        },
        "id": "ae753c48",
        "outputId": "66722d3a-42a5-44d5-860a-d5285f790133"
      },
      "outputs": [
        {
          "data": {
            "text/plain": [
              "tensor([1.0266, 9.4066, 1.0010, 0.5684, 0.8491, 1.2934, 0.8260])"
            ]
          },
          "execution_count": 12,
          "metadata": {},
          "output_type": "execute_result"
        }
      ],
      "source": [
        "# Weighted loss (class 1 loss is much more emphasized)\n",
        "weights = counts / np.sum(counts)\n",
        "weights = weights.mean() / weights\n",
        "weights = torch.tensor(weights.astype(np.float32))\n",
        "weights"
      ]
    },
    {
      "cell_type": "markdown",
      "id": "20e98a02",
      "metadata": {
        "id": "20e98a02"
      },
      "source": [
        "## Build the model"
      ]
    },
    {
      "cell_type": "code",
      "execution_count": 55,
      "id": "60f3a469",
      "metadata": {
        "id": "60f3a469"
      },
      "outputs": [],
      "source": [
        "class CNN(nn.Module):\n",
        "    def __init__(self, num_outs, num_hiddens, drop_out_p1, drop_out_p2):\n",
        "        super(CNN, self).__init__()\n",
        "\n",
        "        # Convolution layers\n",
        "        self.conv1 = nn.Sequential(\n",
        "            nn.Conv2d(in_channels=1, out_channels=32, kernel_size=3, padding=1),\n",
        "            nn.ReLU(),\n",
        "            nn.BatchNorm2d(32),\n",
        "            nn.Conv2d(in_channels=32, out_channels=32, kernel_size=3, padding=1),\n",
        "            nn.ReLU(),\n",
        "            nn.BatchNorm2d(32),\n",
        "            nn.MaxPool2d(2)\n",
        "        )\n",
        "\n",
        "        self.conv2 = nn.Sequential(\n",
        "            nn.Conv2d(in_channels=32, out_channels=64, kernel_size=3, padding=1),\n",
        "            nn.ReLU(),\n",
        "            nn.BatchNorm2d(64),\n",
        "            nn.Conv2d(in_channels=64, out_channels=64, kernel_size=3, padding=1),\n",
        "            nn.ReLU(),\n",
        "            nn.BatchNorm2d(64),\n",
        "            nn.Conv2d(in_channels=64, out_channels=128, kernel_size=3, padding=1),\n",
        "            nn.ReLU(),\n",
        "            nn.BatchNorm2d(128),\n",
        "            nn.MaxPool2d(2)\n",
        "        )\n",
        "\n",
        "        self.conv3 = nn.Sequential(\n",
        "            nn.Conv2d(in_channels=128, out_channels=128, kernel_size=3, padding=1),\n",
        "            nn.ReLU(),\n",
        "            nn.BatchNorm2d(128),\n",
        "            nn.Conv2d(in_channels=128, out_channels=128, kernel_size=3, padding=1),\n",
        "            nn.ReLU(),\n",
        "            nn.BatchNorm2d(128),\n",
        "            nn.Conv2d(in_channels=128, out_channels=256, kernel_size=3, padding=1),\n",
        "            nn.ReLU(),\n",
        "            nn.BatchNorm2d(256),\n",
        "            nn.MaxPool2d(2)\n",
        "        )\n",
        "\n",
        "        self.conv4 = nn.Sequential(\n",
        "            nn.Conv2d(in_channels=256, out_channels=256, kernel_size=3, padding=1),\n",
        "            nn.ReLU(),\n",
        "            nn.BatchNorm2d(256),\n",
        "            nn.Conv2d(in_channels=256, out_channels=512, kernel_size=3, padding=1),\n",
        "            nn.ReLU(),\n",
        "            nn.BatchNorm2d(512),\n",
        "            nn.Conv2d(in_channels=512, out_channels=512, kernel_size=3, padding=1),\n",
        "            nn.ReLU(),\n",
        "            nn.BatchNorm2d(512),\n",
        "            nn.MaxPool2d(2)\n",
        "        )\n",
        "\n",
        "        self._flatten_size = 3 * 3 * 512\n",
        "\n",
        "        # ANN\n",
        "        self.dense = nn.Sequential(\n",
        "            nn.Dropout(drop_out_p1),\n",
        "            nn.Linear(self._flatten_size, num_hiddens),\n",
        "            nn.ReLU(),\n",
        "            nn.Dropout(drop_out_p2),\n",
        "            nn.Linear(num_hiddens, num_outs),\n",
        "        )\n",
        "\n",
        "    def forward(self, X):\n",
        "        out = self.conv1(X)\n",
        "        out = self.conv2(out)\n",
        "        out = self.conv3(out)\n",
        "        out = self.conv4(out)\n",
        "        out = out.reshape(out.size(0), -1)  # Flatten the output\n",
        "        out = self.dense(out)\n",
        "        return out"
      ]
    },
    {
      "cell_type": "code",
      "execution_count": 15,
      "id": "19a9d47a",
      "metadata": {
        "id": "19a9d47a"
      },
      "outputs": [],
      "source": [
        "def configure(model: nn.Module, device: torch.device, lr: float, optim_method: str, weights: torch.Tensor):\n",
        "    model.to(device)\n",
        "    weights = weights.to(device)\n",
        "    criterion = nn.CrossEntropyLoss(weight=weights)\n",
        "    if optim_method == \"Adam\":\n",
        "        optimizer = optim.Adam(model.parameters(), lr=lr)\n",
        "    else:\n",
        "        optimizer = optim.SGD(model.parameters(), lr=lr)\n",
        "    return criterion, optimizer"
      ]
    },
    {
      "cell_type": "code",
      "execution_count": 16,
      "id": "ac4c4bf2",
      "metadata": {
        "id": "ac4c4bf2"
      },
      "outputs": [],
      "source": [
        "def batch_gd(model: nn.Module, criterion: nn.Module, optimizer: optim.Optimizer, device: torch.device,\n",
        "                train_loader: DataLoader, test_loader: DataLoader, num_epochs: int, record=False):\n",
        "    assert 0 <= num_epochs\n",
        "\n",
        "    # Record the loss over time\n",
        "    loss_history = np.zeros(num_epochs)\n",
        "    test_history = np.zeros(num_epochs)\n",
        "\n",
        "    for epoch in range(num_epochs):\n",
        "        # Train mode\n",
        "        model.train()\n",
        "\n",
        "        # Loss over the same epoch\n",
        "        loss_epoch = []\n",
        "        for inputs, targets in train_loader:\n",
        "            # Zero the gradient\n",
        "            optimizer.zero_grad()\n",
        "\n",
        "            # Move data to device\n",
        "            inputs, targets = inputs.to(device), targets.to(device)\n",
        "\n",
        "            # Forward pass\n",
        "            outs = model(inputs)\n",
        "            loss = criterion(outs, targets)\n",
        "\n",
        "            # Record the train loss\n",
        "            loss_epoch.append(loss.item())\n",
        "\n",
        "            # Backward pass\n",
        "            loss.backward()\n",
        "            optimizer.step()\n",
        "\n",
        "        # Average loss after 1 epoch\n",
        "        loss_history[epoch] = np.mean(loss_epoch)\n",
        "\n",
        "        # Eval mode\n",
        "        model.eval()\n",
        "        test_epoch = []\n",
        "        for inputs, targets in test_loader:\n",
        "            # Zero the gradient\n",
        "            optimizer.zero_grad()\n",
        "\n",
        "            inputs, targets = inputs.to(device), targets.to(device)\n",
        "\n",
        "            # Forward pass\n",
        "            outs = model(inputs)\n",
        "            test_loss = criterion(outs, targets)\n",
        "\n",
        "            # Record test loss\n",
        "            test_epoch.append(test_loss.item())\n",
        "\n",
        "        # Average loss\n",
        "        test_history[epoch] = np.mean(test_epoch)\n",
        "\n",
        "    if record:\n",
        "        print(f\"Epoch {epoch}/{num_epochs}: Train loss={loss_history[epoch]}; Test loss={test_history[epoch]}\")\n",
        "\n",
        "    return loss_history, test_history"
      ]
    },
    {
      "cell_type": "markdown",
      "id": "ae8b1d15",
      "metadata": {
        "id": "ae8b1d15"
      },
      "source": [
        "## Train the model"
      ]
    },
    {
      "cell_type": "code",
      "execution_count": 17,
      "id": "fe65bf32",
      "metadata": {
        "id": "fe65bf32"
      },
      "outputs": [],
      "source": [
        "from PIL import Image"
      ]
    },
    {
      "cell_type": "code",
      "execution_count": 18,
      "id": "b6af4c89",
      "metadata": {
        "id": "b6af4c89"
      },
      "outputs": [],
      "source": [
        "class EmotionDataset(Dataset):\n",
        "    \"\"\"\n",
        "    Custom Dataset for data augmentation\n",
        "    \"\"\"\n",
        "    def __init__(self, imgs, labels, transform=None):\n",
        "        super().__init__()\n",
        "        self.imgs = imgs\n",
        "        self.labels = labels\n",
        "        self.transform = transform\n",
        "\n",
        "    def __len__(self):\n",
        "        return len(self.labels)\n",
        "\n",
        "    def __getitem__(self, index):\n",
        "        image = Image.fromarray(self.imgs[index])\n",
        "        label = torch.tensor(self.labels[index])\n",
        "\n",
        "        if self.transform:\n",
        "            image = self.transform(image)\n",
        "\n",
        "        return image, label"
      ]
    },
    {
      "cell_type": "code",
      "execution_count": 19,
      "id": "b877180d",
      "metadata": {
        "id": "b877180d"
      },
      "outputs": [],
      "source": [
        "# Transform method for data augmentation\n",
        "transform = transforms.Compose([\n",
        "    transforms.RandomAffine(0, (0.1, 0.1)),\n",
        "    transforms.RandomVerticalFlip(0.25),\n",
        "    transforms.RandomRotation(10),\n",
        "    transforms.ToTensor()\n",
        "])"
      ]
    },
    {
      "cell_type": "code",
      "execution_count": 20,
      "id": "6c86edb9",
      "metadata": {
        "id": "6c86edb9"
      },
      "outputs": [],
      "source": [
        "# Wrapper for the dataset\n",
        "train_dataset = EmotionDataset(X_train, y_train, transform)\n",
        "test_dataset = EmotionDataset(X_test, y_test, transforms.ToTensor())\n",
        "\n",
        "# Data loaders\n",
        "batch_size = 128\n",
        "train_loader = DataLoader(train_dataset, batch_size, shuffle=True)\n",
        "test_loader = DataLoader(test_dataset, batch_size, shuffle=False)"
      ]
    },
    {
      "cell_type": "code",
      "execution_count": 52,
      "id": "1fd66f31",
      "metadata": {
        "id": "1fd66f31"
      },
      "outputs": [],
      "source": [
        "# Hyperparameters\n",
        "lr = 0.05\n",
        "optim_method = \"SGD\"\n",
        "num_epochs = 200\n",
        "num_hiddens = 4096\n",
        "drop_out1 = 0.6\n",
        "drop_out2 = 0.3"
      ]
    },
    {
      "cell_type": "code",
      "execution_count": 56,
      "id": "97c40d22",
      "metadata": {
        "id": "97c40d22"
      },
      "outputs": [],
      "source": [
        "# Initiate the model and configure\n",
        "model = CNN(7, num_hiddens, drop_out1, drop_out2)\n",
        "device = torch.device(\"cuda:0\" if torch.cuda.is_available() else 'cpu')\n",
        "criterion, optimizer = configure(model, device, lr, optim_method, weights)"
      ]
    },
    {
      "cell_type": "code",
      "execution_count": 25,
      "id": "ac44ac53",
      "metadata": {
        "id": "ac44ac53"
      },
      "outputs": [],
      "source": [
        "from time import perf_counter"
      ]
    },
    {
      "cell_type": "code",
      "execution_count": 57,
      "id": "88cfbd76",
      "metadata": {
        "colab": {
          "base_uri": "https://localhost:8080/",
          "height": 36
        },
        "id": "88cfbd76",
        "outputId": "f46ba956-95d3-47b9-d123-b827299acbf2"
      },
      "outputs": [
        {
          "data": {
            "application/vnd.google.colaboratory.intrinsic+json": {
              "type": "string"
            },
            "text/plain": [
              "'Time needed: 56.08271511701666m56.0s'"
            ]
          },
          "execution_count": 57,
          "metadata": {},
          "output_type": "execute_result"
        }
      ],
      "source": [
        "# Train the model\n",
        "start = perf_counter()\n",
        "loss_his, test_his = batch_gd(model, criterion, optimizer, device, train_loader, test_loader, num_epochs)\n",
        "end = perf_counter()\n",
        "f'Time needed: {(end - start) / 60}m{(end - start)//60}s'"
      ]
    },
    {
      "cell_type": "markdown",
      "id": "e1750828",
      "metadata": {
        "id": "e1750828"
      },
      "source": [
        "## Evaluate the model"
      ]
    },
    {
      "cell_type": "code",
      "execution_count": 58,
      "id": "cd82d231",
      "metadata": {
        "colab": {
          "base_uri": "https://localhost:8080/",
          "height": 472
        },
        "id": "cd82d231",
        "outputId": "d45b1456-94af-4553-84cb-d499a8fd39a2"
      },
      "outputs": [
        {
          "data": {
            "image/png": "[encoded data removed]",
            "text/plain": [
              "<Figure size 640x480 with 1 Axes>"
            ]
          },
          "metadata": {},
          "output_type": "display_data"
        }
      ],
      "source": [
        "# Plot the loss over time\n",
        "plt.title(\"Loss over time\")\n",
        "plt.xlabel(\"epoch\")\n",
        "plt.ylabel(\"loss\")\n",
        "plt.plot(loss_his, label=\"train loss\")\n",
        "plt.plot(test_his, label=\"test loss\")\n",
        "plt.legend()\n",
        "plt.show()"
      ]
    },
    {
      "cell_type": "code",
      "execution_count": 28,
      "id": "8f6b2ce3",
      "metadata": {
        "id": "8f6b2ce3"
      },
      "outputs": [],
      "source": [
        "def compute_accuracy(model: nn.Module, device, data_loader: DataLoader):\n",
        "    model.eval()\n",
        "    n_correct, n_total = 0, 0\n",
        "    for inputs, targets in data_loader:\n",
        "        # Move data to device\n",
        "        inputs, targets = inputs.to(device), targets.to(device)\n",
        "\n",
        "        outs = model(inputs)\n",
        "        _, preds = torch.max(outs, 1)\n",
        "\n",
        "        # compute the accuracy\n",
        "        n_total += targets.shape[0]\n",
        "        n_correct += torch.sum((preds == targets)).item()\n",
        "\n",
        "    return n_correct / n_total"
      ]
    },
    {
      "cell_type": "code",
      "execution_count": 59,
      "id": "3230fa9a",
      "metadata": {
        "colab": {
          "base_uri": "https://localhost:8080/",
          "height": 36
        },
        "id": "3230fa9a",
        "outputId": "4c2c1b44-06ec-43ea-821d-fa38dbd9dde1"
      },
      "outputs": [
        {
          "data": {
            "application/vnd.google.colaboratory.intrinsic+json": {
              "type": "string"
            },
            "text/plain": [
              "'Train accuracy: 0.9504336619178655; Test accuracy: 0.6749791028141544.'"
            ]
          },
          "execution_count": 59,
          "metadata": {},
          "output_type": "execute_result"
        }
      ],
      "source": [
        "# Compute the accuracies\n",
        "train_acc = compute_accuracy(model, device, train_loader)\n",
        "test_acc = compute_accuracy(model, device, test_loader)\n",
        "f\"Train accuracy: {train_acc}; Test accuracy: {test_acc}.\""
      ]
    },
    {
      "cell_type": "markdown",
      "id": "6695dee4",
      "metadata": {
        "id": "6695dee4"
      },
      "source": [
        "### Plot the confusion matrix"
      ]
    },
    {
      "cell_type": "code",
      "execution_count": 62,
      "id": "7b3e1320",
      "metadata": {
        "colab": {
          "base_uri": "https://localhost:8080/",
          "height": 645
        },
        "id": "7b3e1320",
        "outputId": "f2f0d7e8-6751-41c8-ea8d-485efa00d2a4"
      },
      "outputs": [
        {
          "name": "stdout",
          "output_type": "stream",
          "text": [
            "Confusion matrix with no normalization\n",
            "[[ 553   19  102   42  124   32   86]\n",
            " [  12   84    1    1    9    2    2]\n",
            " [ 111    8  501   35  198   85   86]\n",
            " [  35    1   36 1530   51   33   88]\n",
            " [ 118    5  136   65  693   23  207]\n",
            " [  18    0   40   28   17  703   25]\n",
            " [  80    2   73  101  177   19  781]]\n"
          ]
        },
        {
          "data": {
            "image/png": "[encoded data removed]",
            "text/plain": [
              "<Figure size 640x480 with 2 Axes>"
            ]
          },
          "metadata": {},
          "output_type": "display_data"
        }
      ],
      "source": [
        "p_test = np.array([])\n",
        "\n",
        "for inputs, targets in test_loader:\n",
        "    inputs, targets = inputs.to(device), targets.to(device)\n",
        "\n",
        "    outs = model(inputs)\n",
        "    _, preds = torch.max(outs, 1)\n",
        "\n",
        "    p_test = np.concatenate((p_test, preds.cpu().numpy()))\n",
        "\n",
        "cm = confusion_matrix(y_test, p_test)\n",
        "plot_confusion_matrix(cm, classes)"
      ]
    },
    {
      "cell_type": "markdown",
      "id": "d85ab896",
      "metadata": {
        "id": "d85ab896"
      },
      "source": [
        "### Some misidentified data"
      ]
    },
    {
      "cell_type": "code",
      "execution_count": 64,
      "id": "9ea66048",
      "metadata": {
        "colab": {
          "base_uri": "https://localhost:8080/",
          "height": 452
        },
        "id": "9ea66048",
        "outputId": "ab643d9e-9cb3-4dbe-9cb7-3a7ff6f39e89"
      },
      "outputs": [
        {
          "data": {
            "image/png": "[encoded data removed]",
            "text/plain": [
              "<Figure size 640x480 with 1 Axes>"
            ]
          },
          "metadata": {},
          "output_type": "display_data"
        }
      ],
      "source": [
        "y_test = np.array(y_test).astype(np.int8)\n",
        "p_test = p_test.astype(np.int8)\n",
        "misidentified = np.where(p_test != y_test)[0]\n",
        "sample_idx = np.random.choice(misidentified)\n",
        "plt.title(f\"True label: {classes[y_test[sample_idx]]}; Predicted: {classes[p_test[sample_idx]]}\")\n",
        "plt.imshow(X_test[sample_idx])\n",
        "plt.show()"
      ]
    },
    {
      "cell_type": "code",
      "execution_count": 65,
      "id": "21878f02",
      "metadata": {
        "id": "21878f02"
      },
      "outputs": [],
      "source": [
        "from torchsummary import summary"
      ]
    },
    {
      "cell_type": "code",
      "execution_count": 66,
      "id": "72fac8c7",
      "metadata": {
        "colab": {
          "base_uri": "https://localhost:8080/"
        },
        "id": "72fac8c7",
        "outputId": "d6127026-cabf-4487-8d11-f1f24dbeb4c1"
      },
      "outputs": [
        {
          "name": "stdout",
          "output_type": "stream",
          "text": [
            "----------------------------------------------------------------\n",
            "        Layer (type)               Output Shape         Param #\n",
            "================================================================\n",
            "            Conv2d-1           [-1, 32, 48, 48]             320\n",
            "              ReLU-2           [-1, 32, 48, 48]               0\n",
            "       BatchNorm2d-3           [-1, 32, 48, 48]              64\n",
            "            Conv2d-4           [-1, 32, 48, 48]           9,248\n",
            "              ReLU-5           [-1, 32, 48, 48]               0\n",
            "       BatchNorm2d-6           [-1, 32, 48, 48]              64\n",
            "         MaxPool2d-7           [-1, 32, 24, 24]               0\n",
            "            Conv2d-8           [-1, 64, 24, 24]          18,496\n",
            "              ReLU-9           [-1, 64, 24, 24]               0\n",
            "      BatchNorm2d-10           [-1, 64, 24, 24]             128\n",
            "           Conv2d-11           [-1, 64, 24, 24]          36,928\n",
            "             ReLU-12           [-1, 64, 24, 24]               0\n",
            "      BatchNorm2d-13           [-1, 64, 24, 24]             128\n",
            "           Conv2d-14          [-1, 128, 24, 24]          73,856\n",
            "             ReLU-15          [-1, 128, 24, 24]               0\n",
            "      BatchNorm2d-16          [-1, 128, 24, 24]             256\n",
            "        MaxPool2d-17          [-1, 128, 12, 12]               0\n",
            "           Conv2d-18          [-1, 128, 12, 12]         147,584\n",
            "             ReLU-19          [-1, 128, 12, 12]               0\n",
            "      BatchNorm2d-20          [-1, 128, 12, 12]             256\n",
            "           Conv2d-21          [-1, 128, 12, 12]         147,584\n",
            "             ReLU-22          [-1, 128, 12, 12]               0\n",
            "      BatchNorm2d-23          [-1, 128, 12, 12]             256\n",
            "           Conv2d-24          [-1, 256, 12, 12]         295,168\n",
            "             ReLU-25          [-1, 256, 12, 12]               0\n",
            "      BatchNorm2d-26          [-1, 256, 12, 12]             512\n",
            "        MaxPool2d-27            [-1, 256, 6, 6]               0\n",
            "           Conv2d-28            [-1, 256, 6, 6]         590,080\n",
            "             ReLU-29            [-1, 256, 6, 6]               0\n",
            "      BatchNorm2d-30            [-1, 256, 6, 6]             512\n",
            "           Conv2d-31            [-1, 512, 6, 6]       1,180,160\n",
            "             ReLU-32            [-1, 512, 6, 6]               0\n",
            "      BatchNorm2d-33            [-1, 512, 6, 6]           1,024\n",
            "           Conv2d-34            [-1, 512, 6, 6]       2,359,808\n",
            "             ReLU-35            [-1, 512, 6, 6]               0\n",
            "      BatchNorm2d-36            [-1, 512, 6, 6]           1,024\n",
            "        MaxPool2d-37            [-1, 512, 3, 3]               0\n",
            "          Dropout-38                 [-1, 4608]               0\n",
            "           Linear-39                 [-1, 4096]      18,878,464\n",
            "             ReLU-40                 [-1, 4096]               0\n",
            "          Dropout-41                 [-1, 4096]               0\n",
            "           Linear-42                    [-1, 7]          28,679\n",
            "================================================================\n",
            "Total params: 23,770,599\n",
            "Trainable params: 23,770,599\n",
            "Non-trainable params: 0\n",
            "----------------------------------------------------------------\n",
            "Input size (MB): 0.01\n",
            "Forward/backward pass size (MB): 10.01\n",
            "Params size (MB): 90.68\n",
            "Estimated Total Size (MB): 100.69\n",
            "----------------------------------------------------------------\n"
          ]
        }
      ],
      "source": [
        "summary(model, (1, 48, 48))"
      ]
    }
  ],
  "metadata": {
    "accelerator": "GPU",
    "colab": {
      "gpuType": "T4",
      "provenance": []
    },
    "kernelspec": {
      "display_name": "base",
      "language": "python",
      "name": "python3"
    },
    "language_info": {
      "codemirror_mode": {
        "name": "ipython",
        "version": 3
      },
      "file_extension": ".py",
      "mimetype": "text/x-python",
      "name": "python",
      "nbconvert_exporter": "python",
      "pygments_lexer": "ipython3",
      "version": "3.12.7"
    }
  },
  "nbformat": 4,
  "nbformat_minor": 5
}
