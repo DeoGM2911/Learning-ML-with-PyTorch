{
 "cells": [
  {
   "cell_type": "markdown",
   "id": "79226eac",
   "metadata": {},
   "source": [
    "# Prediction E-Coli Protein Localization Site"
   ]
  },
  {
   "cell_type": "code",
   "execution_count": 210,
   "id": "89a2d45b",
   "metadata": {},
   "outputs": [],
   "source": [
    "import torch\n",
    "import torch.nn as nn\n",
    "import numpy as np\n",
    "import matplotlib.pyplot as plt\n",
    "import pandas as pd\n",
    "from sklearn.model_selection import train_test_split\n",
    "from random import shuffle\n",
    "from sklearn.preprocessing import LabelEncoder"
   ]
  },
  {
   "cell_type": "markdown",
   "id": "e8117603",
   "metadata": {},
   "source": [
    "## Load in the dataset"
   ]
  },
  {
   "cell_type": "code",
   "execution_count": 211,
   "id": "c7247cd8",
   "metadata": {},
   "outputs": [
    {
     "name": "stderr",
     "output_type": "stream",
     "text": [
      "--2025-04-15 13:54:32--  https://lazyprogrammer.me/course_files/exercises/ecoli.csv\n",
      "Resolving lazyprogrammer.me (lazyprogrammer.me)... 172.67.213.166, 104.21.23.210\n",
      "Connecting to lazyprogrammer.me (lazyprogrammer.me)|172.67.213.166|:443... connected.\n",
      "HTTP request sent, awaiting response... 200 OK\n",
      "Length: 19487 (19K) [text/csv]\n",
      "Saving to: 'ecoli.csv.1'\n",
      "\n",
      "     0K .......... .........                                  100% 5,41M=0,003s\n",
      "\n",
      "2025-04-15 13:54:32 (5,41 MB/s) - 'ecoli.csv.1' saved [19487/19487]\n",
      "\n"
     ]
    }
   ],
   "source": [
    "# Download the dataset\n",
    "!wget https://lazyprogrammer.me/course_files/exercises/ecoli.csv"
   ]
  },
  {
   "cell_type": "code",
   "execution_count": 212,
   "id": "ef173b7a",
   "metadata": {},
   "outputs": [
    {
     "name": "stdout",
     "output_type": "stream",
     "text": [
      "AAT_ECOLI   0.49  0.29  0.48  0.50  0.56  0.24  0.35   cp\n",
      "ACEA_ECOLI  0.07  0.40  0.48  0.50  0.54  0.35  0.44   cp\n",
      "ACEK_ECOLI  0.56  0.40  0.48  0.50  0.49  0.37  0.46   cp\n",
      "ACKA_ECOLI  0.59  0.49  0.48  0.50  0.52  0.45  0.36   cp\n",
      "ADI_ECOLI   0.23  0.32  0.48  0.50  0.55  0.25  0.35   cp\n",
      "ALKH_ECOLI  0.67  0.39  0.48  0.50  0.36  0.38  0.46   cp\n",
      "AMPD_ECOLI  0.29  0.28  0.48  0.50  0.44  0.23  0.34   cp\n",
      "AMY2_ECOLI  0.21  0.34  0.48  0.50  0.51  0.28  0.39   cp\n",
      "APT_ECOLI   0.20  0.44  0.48  0.50  0.46  0.51  0.57   cp\n",
      "ARAC_ECOLI  0.42  0.40  0.48  0.50  0.56  0.18  0.30   cp\n"
     ]
    }
   ],
   "source": [
    "%%bash\n",
    "head ecoli.csv"
   ]
  },
  {
   "cell_type": "code",
   "execution_count": 213,
   "id": "0800d4dd",
   "metadata": {},
   "outputs": [],
   "source": [
    "data = pd.read_csv(\"ecoli.csv\", header=None, sep=r'\\s+', usecols=range(1, 9)).to_numpy()"
   ]
  },
  {
   "cell_type": "markdown",
   "id": "269a14cf",
   "metadata": {},
   "source": [
    "No need for standardize the features since they're pretty small already"
   ]
  },
  {
   "cell_type": "code",
   "execution_count": 419,
   "id": "ac8ced47",
   "metadata": {},
   "outputs": [],
   "source": [
    "# Split the features and targets\n",
    "X, y = data[:, :-1], data[:, -1]"
   ]
  },
  {
   "cell_type": "markdown",
   "id": "5e340398",
   "metadata": {},
   "source": [
    "#### Convert y to array of integers"
   ]
  },
  {
   "cell_type": "code",
   "execution_count": 420,
   "id": "423be5b5",
   "metadata": {},
   "outputs": [],
   "source": [
    "le = LabelEncoder()\n",
    "y = le.fit_transform(y)\n",
    "encode_map = le.classes_"
   ]
  },
  {
   "cell_type": "code",
   "execution_count": 379,
   "id": "ae343d53",
   "metadata": {},
   "outputs": [
    {
     "data": {
      "text/plain": [
       "((336, 7), (336,), dtype('int32'))"
      ]
     },
     "execution_count": 379,
     "metadata": {},
     "output_type": "execute_result"
    }
   ],
   "source": [
    "X.shape, y.shape, y.dtype"
   ]
  },
  {
   "cell_type": "code",
   "execution_count": 421,
   "id": "177f5357",
   "metadata": {},
   "outputs": [
    {
     "data": {
      "text/plain": [
       "((252, 7), (84, 7))"
      ]
     },
     "execution_count": 421,
     "metadata": {},
     "output_type": "execute_result"
    }
   ],
   "source": [
    "# Split into train set and test set\n",
    "X_train, X_test, y_train, y_test = train_test_split(X, y, test_size=0.25, shuffle=True)\n",
    "X_train.shape, X_test.shape"
   ]
  },
  {
   "cell_type": "code",
   "execution_count": 422,
   "id": "041e1d74",
   "metadata": {},
   "outputs": [],
   "source": [
    "# Convert to Torch tensor\n",
    "X_train = torch.from_numpy(X_train.astype(np.float32))\n",
    "X_test = torch.from_numpy(X_test.astype(np.float32))\n",
    "y_train = torch.from_numpy(y_train.astype(np.longlong))\n",
    "y_test = torch.from_numpy(y_test.astype(np.longlong))"
   ]
  },
  {
   "cell_type": "markdown",
   "id": "b2b37cd9",
   "metadata": {},
   "source": [
    "### Build the model"
   ]
  },
  {
   "cell_type": "code",
   "execution_count": 434,
   "id": "249bb759",
   "metadata": {},
   "outputs": [],
   "source": [
    "# Hyperparameters\n",
    "lr = 0.002\n",
    "num_epochs = 1000\n",
    "num_hiddens = 128\n",
    "drop_out_p = 0.01\n",
    "optim = \"Adam\""
   ]
  },
  {
   "cell_type": "code",
   "execution_count": 433,
   "id": "c7f2e2f8",
   "metadata": {},
   "outputs": [],
   "source": [
    "def create_model(num_ins, num_outs, num_hiddens, drop_out_p):\n",
    "    model = nn.Sequential(\n",
    "        nn.Linear(num_ins, num_hiddens),\n",
    "        nn.ReLU(),\n",
    "        nn.Dropout(drop_out_p),\n",
    "        nn.Linear(num_hiddens, num_outs),\n",
    "        # nn.Dropout(drop_out_p)\n",
    "        # No need for softmax since it's used in our loss function\n",
    "    )\n",
    "    return model"
   ]
  },
  {
   "cell_type": "code",
   "execution_count": 383,
   "id": "8d34a26d",
   "metadata": {},
   "outputs": [],
   "source": [
    "def configure(model, lr, optim):\n",
    "    criterion = nn.CrossEntropyLoss()\n",
    "    optimizer = torch.optim.Adam(model.parameters(), lr=lr) if optim == \"Adam\" \\\n",
    "        else torch.optim.SGD(model.parameters(), lr=lr)\n",
    "    return criterion, optimizer"
   ]
  },
  {
   "cell_type": "markdown",
   "id": "d30a557a",
   "metadata": {},
   "source": [
    "#### Gradient Descend"
   ]
  },
  {
   "cell_type": "code",
   "execution_count": 384,
   "id": "d78faf9e",
   "metadata": {},
   "outputs": [],
   "source": [
    "def train(model, X_train, y_train, X_test, y_test, optimizer, criterion, num_epochs, record_loss=False):\n",
    "    loss_history = np.zeros(num_epochs)\n",
    "    test_history = np.zeros(num_epochs)\n",
    "    \n",
    "    for epoch in range(num_epochs):\n",
    "        # Zero out the gradient\n",
    "        optimizer.zero_grad()\n",
    "        \n",
    "        # Compute the loss\n",
    "        y_hat_train = model(X_train)\n",
    "        loss = criterion(y_hat_train, y_train)\n",
    "        \n",
    "        # Compute test loss\n",
    "        y_hat_test = model(X_test)\n",
    "        \n",
    "        # Update params\n",
    "        loss.backward()\n",
    "        optimizer.step()\n",
    "        \n",
    "        # Record the losses\n",
    "        loss_history[epoch] = loss.item()\n",
    "        test_history[epoch] = criterion(y_hat_test, y_test).item()\n",
    "    \n",
    "    return loss_history, test_history"
   ]
  },
  {
   "cell_type": "code",
   "execution_count": 435,
   "id": "81b20a64",
   "metadata": {},
   "outputs": [],
   "source": [
    "model = create_model(X_train.shape[1], 8, num_hiddens, drop_out_p)\n",
    "criterion, optimizer = configure(model, lr, optim)"
   ]
  },
  {
   "cell_type": "code",
   "execution_count": 436,
   "id": "4bd85f4e",
   "metadata": {},
   "outputs": [],
   "source": [
    "loss_history, test_history = train(model, X_train, y_train, X_test, y_test, optimizer, criterion, num_epochs)"
   ]
  },
  {
   "cell_type": "markdown",
   "id": "c9aa7c63",
   "metadata": {},
   "source": [
    "### Evaluate the model"
   ]
  },
  {
   "cell_type": "code",
   "execution_count": 437,
   "id": "2e8d314a",
   "metadata": {},
   "outputs": [
    {
     "data": {
      "image/png": "[encoded data removed]",
      "text/plain": [
       "<Figure size 640x480 with 1 Axes>"
      ]
     },
     "metadata": {},
     "output_type": "display_data"
    }
   ],
   "source": [
    "plt.title(\"Loss over time\")\n",
    "plt.plot(loss_history, label=\"train loss\")\n",
    "plt.plot(test_history, label=\"test loss\")\n",
    "plt.legend()\n",
    "plt.show()"
   ]
  },
  {
   "cell_type": "code",
   "execution_count": 438,
   "id": "ce8432d6",
   "metadata": {},
   "outputs": [
    {
     "data": {
      "text/plain": [
       "Sequential(\n",
       "  (0): Linear(in_features=7, out_features=128, bias=True)\n",
       "  (1): ReLU()\n",
       "  (2): Dropout(p=0.01, inplace=False)\n",
       "  (3): Linear(in_features=128, out_features=8, bias=True)\n",
       ")"
      ]
     },
     "execution_count": 438,
     "metadata": {},
     "output_type": "execute_result"
    }
   ],
   "source": [
    "# Switch to evaluating mode (Ignore drop out layer)\n",
    "model.eval()"
   ]
  },
  {
   "cell_type": "code",
   "execution_count": 443,
   "id": "639d6234",
   "metadata": {},
   "outputs": [
    {
     "name": "stdout",
     "output_type": "stream",
     "text": [
      "Training accuracy: 0.9048\n"
     ]
    }
   ],
   "source": [
    "n_correct, n_total = 0, y_train.shape[0]\n",
    "y_hat_train = model(X_train)\n",
    "_, predictions = torch.max(y_hat_train, 1) \n",
    "n_correct += (predictions == y_train).sum().item()\n",
    "print(f\"Training accuracy: {n_correct/n_total:.4f}\")"
   ]
  },
  {
   "cell_type": "code",
   "execution_count": 442,
   "id": "54842e2b",
   "metadata": {},
   "outputs": [
    {
     "name": "stdout",
     "output_type": "stream",
     "text": [
      "Testing accuracy: 0.8690\n"
     ]
    }
   ],
   "source": [
    "n_correct, n_total = 0, y_test.shape[0]\n",
    "y_hat_test = model(X_test)\n",
    "_, predictions = torch.max(y_hat_test, 1) \n",
    "n_correct += (predictions == y_test).sum().item()\n",
    "print(f\"Testing accuracy: {n_correct/n_total:.4f}\")"
   ]
  },
  {
   "cell_type": "markdown",
   "id": "31156d92",
   "metadata": {},
   "source": [
    "#### Plot confusion matrix"
   ]
  },
  {
   "cell_type": "code",
   "execution_count": 301,
   "id": "d11d725b",
   "metadata": {},
   "outputs": [],
   "source": [
    "from sklearn.metrics import confusion_matrix\n",
    "import numpy as np\n",
    "import itertools\n",
    "\n",
    "def plot_confusion_matrix(cm, classes, normalize=False, title='Cofusion matrix', cmap=plt.cm.Blues):\n",
    "    \"\"\"\n",
    "    This function prints and plots the confusion matrix\n",
    "    Normalization can be applied by setting normalized to True\n",
    "    \"\"\"\n",
    "    if normalize:\n",
    "        cm = cm.astype('float') / cm.sum(axis=1)[:, np.newaxis]\n",
    "        print(\"Normalized confusion matrix\")\n",
    "    else: \n",
    "        print(\"Confusion matrix with no normalization\")\n",
    "    \n",
    "    print(cm)\n",
    "    \n",
    "    plt.imshow(cm, interpolation='nearest', cmap=cmap)\n",
    "    plt.title(title)\n",
    "    plt.colorbar()\n",
    "    tickmarks = np.arange(len(classes))\n",
    "    plt.xticks(tickmarks, classes, rotation=45)\n",
    "    plt.yticks(tickmarks, classes)\n",
    "    \n",
    "    fmt = '.2f' if normalize else 'd'\n",
    "    thresh = cm.max() / 2.\n",
    "    for i, j in itertools.product(range(cm.shape[0]), range(cm.shape[1])):\n",
    "        plt.text(j, i, format(cm[i, j], fmt),\n",
    "                 horizontalalignment=\"center\",\n",
    "                 color=\"white\" if cm[i,j] > thresh else \"black\")\n",
    "    \n",
    "    plt.tight_layout()\n",
    "    plt.ylabel('True Label')\n",
    "    plt.xlabel('Predicted Label')\n",
    "    plt.show()"
   ]
  },
  {
   "cell_type": "code",
   "execution_count": 364,
   "id": "13ac64f9",
   "metadata": {},
   "outputs": [
    {
     "name": "stdout",
     "output_type": "stream",
     "text": [
      "Confusion matrix with no normalization\n",
      "[[108   1   0   0   0   0   0   2]\n",
      " [  2  54   0   0   7   0   0   0]\n",
      " [  0   0   2   0   0   0   0   0]\n",
      " [  0   0   0   0   0   0   0   1]\n",
      " [  1   9   0   0  16   0   0   0]\n",
      " [  0   0   0   0   0  15   0   2]\n",
      " [  0   0   0   0   0   0   5   0]\n",
      " [  4   1   0   0   0   0   0  38]]\n"
     ]
    },
    {
     "data": {
      "image/png": "[encoded data removed]",
      "text/plain": [
       "<Figure size 640x480 with 2 Axes>"
      ]
     },
     "metadata": {},
     "output_type": "display_data"
    }
   ],
   "source": [
    "y_hat_train = model(X_train)\n",
    "_, predictions = torch.max(y_hat_train, 1)\n",
    "p_test = predictions.numpy()\n",
    "\n",
    "cm = confusion_matrix(y_train.numpy(), p_test)\n",
    "plot_confusion_matrix(cm, list(range(8)))"
   ]
  }
 ],
 "metadata": {
  "kernelspec": {
   "display_name": "base",
   "language": "python",
   "name": "python3"
  },
  "language_info": {
   "codemirror_mode": {
    "name": "ipython",
    "version": 3
   },
   "file_extension": ".py",
   "mimetype": "text/x-python",
   "name": "python",
   "nbconvert_exporter": "python",
   "pygments_lexer": "ipython3",
   "version": "3.12.7"
  }
 },
 "nbformat": 4,
 "nbformat_minor": 5
}
