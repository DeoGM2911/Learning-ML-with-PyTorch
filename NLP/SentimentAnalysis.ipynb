{
 "cells": [
  {
   "cell_type": "markdown",
   "id": "de03c937",
   "metadata": {},
   "source": [
    "# Sentiment Analysis for Tweets about US Airlines"
   ]
  },
  {
   "cell_type": "markdown",
   "id": "806d14ce",
   "metadata": {},
   "source": [
    "## About the data\n",
    "\n",
    "The data is the Twitter US Airline Sentiment from 2015 on Kaggle. For more info, visit the [dataset](https://www.kaggle.com/datasets/crowdflower/twitter-airline-sentiment)."
   ]
  },
  {
   "cell_type": "code",
   "execution_count": 292,
   "id": "0446a172",
   "metadata": {},
   "outputs": [],
   "source": [
    "import torch\n",
    "from torch import nn, optim\n",
    "import torch.nn.functional as F\n",
    "import matplotlib.pyplot as plt\n",
    "import numpy as np\n",
    "import pandas as pd\n",
    "\n",
    "from sklearn.model_selection import train_test_split\n",
    "from sklearn.utils import shuffle\n",
    "from sklearn.preprocessing import LabelEncoder, StandardScaler\n",
    "from nltk.tokenize import word_tokenize"
   ]
  },
  {
   "cell_type": "markdown",
   "id": "0ea8aebf",
   "metadata": {},
   "source": [
    "## Load in the dataset"
   ]
  },
  {
   "cell_type": "code",
   "execution_count": 293,
   "id": "59806ba4",
   "metadata": {},
   "outputs": [],
   "source": [
    "df = pd.read_csv(\"Tweets.csv\", usecols=[1, 2, 3, 4, 5, 9, 10, 13])"
   ]
  },
  {
   "cell_type": "code",
   "execution_count": 294,
   "id": "d66898d1",
   "metadata": {},
   "outputs": [
    {
     "name": "stdout",
     "output_type": "stream",
     "text": [
      "<class 'pandas.core.frame.DataFrame'>\n",
      "RangeIndex: 14640 entries, 0 to 14639\n",
      "Data columns (total 8 columns):\n",
      " #   Column                        Non-Null Count  Dtype  \n",
      "---  ------                        --------------  -----  \n",
      " 0   airline_sentiment             14640 non-null  object \n",
      " 1   airline_sentiment_confidence  14640 non-null  float64\n",
      " 2   negativereason                9178 non-null   object \n",
      " 3   negativereason_confidence     10522 non-null  float64\n",
      " 4   airline                       14640 non-null  object \n",
      " 5   retweet_count                 14640 non-null  int64  \n",
      " 6   text                          14640 non-null  object \n",
      " 7   tweet_location                9907 non-null   object \n",
      "dtypes: float64(2), int64(1), object(5)\n",
      "memory usage: 915.1+ KB\n"
     ]
    }
   ],
   "source": [
    "# Note: The info here is run AFTER filling up NaN and converting to numbers\n",
    "df.info()"
   ]
  },
  {
   "cell_type": "markdown",
   "id": "a2d08a05",
   "metadata": {},
   "source": [
    "### Fill in the missing data"
   ]
  },
  {
   "cell_type": "code",
   "execution_count": 295,
   "id": "67ef182b",
   "metadata": {},
   "outputs": [],
   "source": [
    "df['negativereason'] = df['negativereason'].fillna(\"Unknown\")\n",
    "df['negativereason_confidence'] = df['negativereason_confidence'].fillna(0)\n",
    "df['tweet_location'] = df['tweet_location'].fillna(\"Unknown\")"
   ]
  },
  {
   "cell_type": "code",
   "execution_count": 296,
   "id": "7487a866",
   "metadata": {},
   "outputs": [],
   "source": [
    "# Convert some fields into numbers\n",
    "df['airline_sentiment'] = df['airline_sentiment'].map({\"neutral\": 0, \"positive\": 1, \"negative\": 2})\n",
    "\n",
    "# Here, it's safe to assume that negative reason is like a field in some survey (with predetermined values)\n",
    "# So I can fit the encoder to the entire dataset. (without the worry of leaking data)\n",
    "neg_reason_encoder = LabelEncoder()\n",
    "df['negativereason'] = neg_reason_encoder.fit_transform(df['negativereason'])"
   ]
  },
  {
   "cell_type": "markdown",
   "id": "e1af83b4",
   "metadata": {},
   "source": [
    "### Split the dataset"
   ]
  },
  {
   "cell_type": "code",
   "execution_count": 297,
   "id": "67bfba94",
   "metadata": {},
   "outputs": [],
   "source": [
    "df_train, df_test = train_test_split(df, test_size=0.2)"
   ]
  },
  {
   "cell_type": "code",
   "execution_count": 298,
   "id": "f9fcdd33",
   "metadata": {},
   "outputs": [],
   "source": [
    "# Normalize large numerical fields\n",
    "retweet_scalar = StandardScaler()\n",
    "df_train['retweet_count'] = retweet_scalar.fit_transform(df_train['retweet_count'].to_frame())\n",
    "df_test['retweet_count'] = retweet_scalar.transform(df_test['retweet_count'].to_frame())"
   ]
  },
  {
   "cell_type": "markdown",
   "id": "386b1dd7",
   "metadata": {},
   "source": [
    "### Build the vocabulary and embedding mapping for location"
   ]
  },
  {
   "cell_type": "code",
   "execution_count": 299,
   "id": "50786ed1",
   "metadata": {},
   "outputs": [],
   "source": [
    "token2int = {\"<pad>\": 0, \"<unk>\": 1}\n",
    "text_train = []\n",
    "i = 2\n",
    "for obs in df_train['text']:\n",
    "    tokens = word_tokenize(obs)\n",
    "    for token in tokens:\n",
    "        if token2int.setdefault(token, i) == i:\n",
    "            i += 1\n",
    "    text_train.append([token2int[token] for token in tokens])"
   ]
  },
  {
   "cell_type": "code",
   "execution_count": 300,
   "id": "a4381b6b",
   "metadata": {},
   "outputs": [],
   "source": [
    "text_test = []\n",
    "for obs in df_test['text']:\n",
    "    tokens = word_tokenize(obs)\n",
    "    cmt = []\n",
    "    for token in tokens:\n",
    "        cmt.append(token2int[token] if token in token2int else token2int[\"<unk>\"])\n",
    "    text_test.append(cmt)"
   ]
  },
  {
   "cell_type": "code",
   "execution_count": 301,
   "id": "f24c3063",
   "metadata": {},
   "outputs": [
    {
     "data": {
      "text/plain": [
       "[2, 3, 4, 5, 6, 7, 8, 9, 10]"
      ]
     },
     "execution_count": 301,
     "metadata": {},
     "output_type": "execute_result"
    }
   ],
   "source": [
    "text_train[0]"
   ]
  },
  {
   "cell_type": "code",
   "execution_count": 302,
   "id": "e1728cf1",
   "metadata": {},
   "outputs": [],
   "source": [
    "location2int = {\"<unk>\": 0}\n",
    "i = 1\n",
    "for obs in df_train['tweet_location']:\n",
    "    if location2int.setdefault(obs, i) == i:\n",
    "        i += 1\n",
    "last_i = i + 1"
   ]
  },
  {
   "cell_type": "code",
   "execution_count": 303,
   "id": "e1b38bde",
   "metadata": {},
   "outputs": [],
   "source": [
    "airline2int = {\"<unk>\": 0}\n",
    "i = 1\n",
    "for obs in df_train['airline']:\n",
    "    if airline2int.setdefault(obs, i) == i:\n",
    "        i += 1\n",
    "last_i = i + 1"
   ]
  },
  {
   "cell_type": "markdown",
   "id": "cb772b1c",
   "metadata": {},
   "source": [
    "#### Convert the data frame to arrays/lists for use "
   ]
  },
  {
   "cell_type": "code",
   "execution_count": 304,
   "id": "33c1c28a",
   "metadata": {},
   "outputs": [],
   "source": [
    "# Convert the texts and locations to indices\n",
    "location_train = df_train['tweet_location'].map(location2int).to_numpy().reshape(-1, 1)\n",
    "location_test = df_test['tweet_location'].map(location2int).fillna(last_i).to_numpy().reshape(-1, 1)"
   ]
  },
  {
   "cell_type": "code",
   "execution_count": 305,
   "id": "2f83245c",
   "metadata": {},
   "outputs": [],
   "source": [
    "# Convert the texts and locations to indices\n",
    "airline_train = df_train['airline'].map(airline2int).to_numpy().reshape(-1, 1)\n",
    "airline_test = df_test['airline'].map(airline2int).fillna(last_i).to_numpy().reshape(-1, 1)"
   ]
  },
  {
   "cell_type": "code",
   "execution_count": 306,
   "id": "c5eb53cd",
   "metadata": {},
   "outputs": [],
   "source": [
    "numerical_train = df_train[['airline_sentiment_confidence', 'negativereason', 'negativereason_confidence', \n",
    "                            \"retweet_count\"]].to_numpy().reshape(len(df_train), -1)\n",
    "\n",
    "numerical_test = df_test[['airline_sentiment_confidence', 'negativereason', 'negativereason_confidence', \n",
    "                            \"retweet_count\"]].to_numpy().reshape(len(df_test), -1)"
   ]
  },
  {
   "cell_type": "code",
   "execution_count": 307,
   "id": "c9e40177",
   "metadata": {},
   "outputs": [
    {
     "data": {
      "text/plain": [
       "(17357, 2742, 7, 11712, 9, (2928, 4), (11712, 1))"
      ]
     },
     "execution_count": 307,
     "metadata": {},
     "output_type": "execute_result"
    }
   ],
   "source": [
    "len(token2int), len(location2int), len(airline2int), len(text_train), len(text_train[0]), numerical_test.shape, location_train.shape"
   ]
  },
  {
   "cell_type": "code",
   "execution_count": 308,
   "id": "6ecbaba2",
   "metadata": {},
   "outputs": [
    {
     "data": {
      "text/plain": [
       "((11712,), (2928,))"
      ]
     },
     "execution_count": 308,
     "metadata": {},
     "output_type": "execute_result"
    }
   ],
   "source": [
    "labels_train = df_train['airline_sentiment'].to_numpy()\n",
    "labels_test = df_test['airline_sentiment'].to_numpy()\n",
    "labels_train.shape, labels_test.shape"
   ]
  },
  {
   "cell_type": "markdown",
   "id": "f75a7ed1",
   "metadata": {},
   "source": [
    "### Data Module for storing data"
   ]
  },
  {
   "cell_type": "code",
   "execution_count": 309,
   "id": "4663cd09",
   "metadata": {},
   "outputs": [],
   "source": [
    "class SentimentDataset():\n",
    "    def __init__(self, text: list[list], location: np.ndarray, airline: np.ndarray, numerical: np.ndarray, labels: np.ndarray):\n",
    "        self.text = text\n",
    "        self.location = location\n",
    "        self.airline = airline\n",
    "        self.numerical = numerical\n",
    "        self.labels = labels\n",
    "    \n",
    "    def generator(self, batch_size=32):\n",
    "        text, location, airline, numerical, labels = shuffle(self.text, self.location, self.airline, self.numerical, self.labels)\n",
    "        assert len(text) == len(location) == len(numerical) == len(labels) == len(airline)\n",
    "        num_batches = int(np.ceil(len(numerical) / batch_size))\n",
    "        for idx in range(num_batches):\n",
    "            # Grab a batch\n",
    "            end = min((idx + 1) * batch_size, len(numerical))\n",
    "            text_batch = text[idx * batch_size: end]\n",
    "            location_batch = location[idx * batch_size: end]\n",
    "            airline_batch = airline[idx * batch_size: end]\n",
    "            numerical_batch = numerical[idx * batch_size: end]\n",
    "            labels_batch = labels[idx * batch_size: end]\n",
    "            \n",
    "            # Pad the text vector\n",
    "            #! Empty iterator\n",
    "            max_len = max([len(cmt) for cmt in text_batch])\n",
    "            for j in range(len(text_batch)):\n",
    "                text_batch[j] = [token2int[\"<pad>\"]] * (max_len - len(text_batch[j])) + text_batch[j]\n",
    "            \n",
    "            # Convert to torch Tensors\n",
    "            text_batch = torch.from_numpy(np.array(text_batch).astype(np.float32)).long()\n",
    "            location_batch = torch.from_numpy(location_batch.astype(np.float32)).long()\n",
    "            airline_batch = torch.from_numpy(airline_batch.astype(np.float32)).long()\n",
    "            numerical_batch = torch.from_numpy(numerical_batch.astype(np.float32))\n",
    "            labels_batch = torch.from_numpy(labels_batch.astype(np.float32)).long()\n",
    "            \n",
    "            yield text_batch, location_batch, airline_batch, numerical_batch, labels_batch"
   ]
  },
  {
   "cell_type": "code",
   "execution_count": 310,
   "id": "8055b3bf",
   "metadata": {},
   "outputs": [],
   "source": [
    "train_dataset = SentimentDataset(text_train, location_train, airline_train, numerical_train, labels_train)\n",
    "test_dataset = SentimentDataset(text_test, location_test, airline_test, numerical_test, labels_test)"
   ]
  },
  {
   "cell_type": "markdown",
   "id": "f55af31b",
   "metadata": {},
   "source": [
    "## Build the model\n",
    "\n",
    "The key here is to embed the text and location fields, concatenate them, pass them through the RNN layers, then combine them with the numerical data as input to the linear layers. "
   ]
  },
  {
   "cell_type": "code",
   "execution_count": 311,
   "id": "122b3479",
   "metadata": {},
   "outputs": [],
   "source": [
    "class Sentiment_RNN(nn.Module):\n",
    "    def __init__(self, numer_feats, vocab_size, num_locations, num_airlines, embed_dim, embed_loc, embed_airl,\n",
    "                    num_outs, num_hiddens, num_layers, device: torch.device):\n",
    "        super(Sentiment_RNN, self).__init__()\n",
    "        \n",
    "        # For convenient use\n",
    "        self.L = num_layers\n",
    "        self.V1 = vocab_size\n",
    "        self.E1 = embed_dim\n",
    "        self.V2 = num_locations\n",
    "        self.E2 = embed_loc\n",
    "        self.V3 = num_locations\n",
    "        self.E3 = embed_loc\n",
    "        self.M1 = num_hiddens\n",
    "        self.M2 = numer_feats  # Number of numerical features\n",
    "        self.K = num_outs\n",
    "        self._device = device\n",
    "        \n",
    "        # Embedding layers\n",
    "        self.embed_text = nn.Embedding(self.V1, self.E1)\n",
    "        self.embed_location = nn.Embedding(self.V2, self.E2)\n",
    "        self.embed_airline = nn.Embedding(self.V3, self.E3)\n",
    "        \n",
    "        # RNN layers\n",
    "        self.rnn = nn.LSTM(\n",
    "            input_size=self.E1,\n",
    "            hidden_size=self.M1,\n",
    "            num_layers=self.L,\n",
    "            batch_first=True,\n",
    "        )\n",
    "        \n",
    "        # Linear layer\n",
    "        self.fc = nn.Sequential(\n",
    "            nn.Linear(self.M1 + self.E2 + self.M2 + self.E3, self.K)\n",
    "        )\n",
    "        \n",
    "    def forward(self, X):\n",
    "        # Break the data into parts\n",
    "        text, location, airline, numerical = X\n",
    "        \n",
    "        # Hidden initial states and cells for RNN\n",
    "        h0 = torch.zeros(self.L, text.size(0), self.M1).to(self._device)\n",
    "        c0 = torch.zeros(self.L, text.size(0), self.M1).to(self._device)\n",
    "        \n",
    "        # Embed the text, location, and airline\n",
    "        text_embed = self.embed_text(text)\n",
    "        location_embed = self.embed_location(location).reshape(location.size(0), self.E2)\n",
    "        airline_embed = self.embed_location(airline).reshape(airline.size(0), self.E3)\n",
    "        \n",
    "        # RNN layers (output of shape N x L x M1)\n",
    "        text_out, _ = self.rnn(text_embed, (h0, c0))\n",
    "        \n",
    "        # Concatenate the tensors (along the same observation)\n",
    "        out = torch.concat((text_out[:, -1, :], location_embed, airline_embed, numerical), dim=1)\n",
    "        \n",
    "        # Dense layer\n",
    "        out = self.fc(out)\n",
    "        return out"
   ]
  },
  {
   "cell_type": "code",
   "execution_count": 312,
   "id": "2cd9da79",
   "metadata": {},
   "outputs": [],
   "source": [
    "def configure(model, device, lr, optim_med):\n",
    "    model.to(device)\n",
    "    criterion = nn.CrossEntropyLoss()\n",
    "    optimizer: optim.Optimizer\n",
    "    if optim_med == 'adam':\n",
    "        optimizer = optim.Adam(model.parameters(), lr=lr)\n",
    "    else:\n",
    "        optimizer = optim.SGD(model.parameters(), lr=lr, momentum=0.99)\n",
    "    return criterion, optimizer"
   ]
  },
  {
   "cell_type": "code",
   "execution_count": 313,
   "id": "8111416a",
   "metadata": {},
   "outputs": [],
   "source": [
    "def batch_gd(model, criterion, optimizer, device, train_dataset, test_dataset, num_epochs):\n",
    "    loss_his, test_his = np.zeros(num_epochs), np.zeros(num_epochs)\n",
    "    for epoch in range(num_epochs):\n",
    "        # Train\n",
    "        train_losses = []\n",
    "        for *inputs, labels in train_dataset.generator():\n",
    "            # Zero the gradient\n",
    "            optimizer.zero_grad()\n",
    "            \n",
    "            # Move data to device\n",
    "            inputs = (vec.to(device) for vec in inputs)\n",
    "            labels = labels.to(device)\n",
    "            \n",
    "            # Forward pass\n",
    "            outs = model(inputs)\n",
    "            train_loss = criterion(outs, labels)\n",
    "            train_losses.append(train_loss.item())\n",
    "            \n",
    "            # Update the parameters\n",
    "            train_loss.backward()\n",
    "            optimizer.step()\n",
    "        \n",
    "        loss_his[epoch] = np.mean(train_losses)\n",
    "\n",
    "        # Validate\n",
    "        test_losses = []\n",
    "        for *inputs, labels in test_dataset.generator():\n",
    "            # Move data to device\n",
    "            inputs = (vec.to(device) for vec in inputs)\n",
    "            labels = labels.to(device)\n",
    "            \n",
    "            # Forward pass\n",
    "            outs = model(inputs)\n",
    "            test_loss = criterion(outs, labels)\n",
    "            test_losses.append(test_loss.item())\n",
    "        \n",
    "        test_his[epoch] = np.mean(test_losses)\n",
    "    \n",
    "    return loss_his, test_his"
   ]
  },
  {
   "cell_type": "markdown",
   "id": "5b3f7d32",
   "metadata": {},
   "source": [
    "### Train the model"
   ]
  },
  {
   "cell_type": "code",
   "execution_count": 324,
   "id": "a0ecd3e8",
   "metadata": {},
   "outputs": [],
   "source": [
    "# Hyperparameters\n",
    "embed_dim, embed_loc, embed_airl = 20, 5, 5 \n",
    "num_hiddens, num_layers = 20, 3\n",
    "lr = 0.01\n",
    "optim_med = 'adam'\n",
    "num_epochs = 50\n",
    "\n",
    "# Setting the device\n",
    "device = torch.device(\"cuda:0\" if torch.cuda.is_available() else \"cpu\")"
   ]
  },
  {
   "cell_type": "code",
   "execution_count": 325,
   "id": "1e86c773",
   "metadata": {},
   "outputs": [],
   "source": [
    "# Initiate the model and configure\n",
    "model = Sentiment_RNN(numer_feats=4, vocab_size=len(token2int), num_locations=len(location2int), num_airlines=len(airline2int),\n",
    "                        embed_dim=embed_dim, embed_loc=embed_loc, embed_airl=embed_airl, num_outs=3,\n",
    "                        num_hiddens=num_hiddens, num_layers=num_layers, device=device)\n",
    "criterion, optimizer = configure(model, device, lr, optim_med)"
   ]
  },
  {
   "cell_type": "code",
   "execution_count": 326,
   "id": "e34f980e",
   "metadata": {},
   "outputs": [],
   "source": [
    "from time import perf_counter"
   ]
  },
  {
   "cell_type": "code",
   "execution_count": 327,
   "id": "3ee2ec29",
   "metadata": {},
   "outputs": [
    {
     "data": {
      "text/plain": [
       "'173.51s needed!'"
      ]
     },
     "execution_count": 327,
     "metadata": {},
     "output_type": "execute_result"
    }
   ],
   "source": [
    "# Train the model\n",
    "start = perf_counter()\n",
    "loss_his, test_his = batch_gd(model, criterion, optimizer, device, train_dataset, test_dataset, num_epochs)\n",
    "end = perf_counter()\n",
    "f\"{end-start:.2f}s needed!\""
   ]
  },
  {
   "cell_type": "markdown",
   "id": "b42d5e4d",
   "metadata": {},
   "source": [
    "### Evaluate the model"
   ]
  },
  {
   "cell_type": "code",
   "execution_count": 328,
   "id": "e3b1be06",
   "metadata": {},
   "outputs": [
    {
     "data": {
      "image/png": "[encoded data removed]",
      "text/plain": [
       "<Figure size 640x480 with 1 Axes>"
      ]
     },
     "metadata": {},
     "output_type": "display_data"
    }
   ],
   "source": [
    "plt.title(\"loss over time\")\n",
    "plt.plot(loss_his, label=\"train loss\")\n",
    "plt.plot(test_his, label=\"test loss\")\n",
    "plt.xlabel(\"epoch\")\n",
    "plt.ylabel(\"loss\")\n",
    "plt.legend()\n",
    "plt.show()"
   ]
  },
  {
   "cell_type": "markdown",
   "id": "c223d142",
   "metadata": {},
   "source": [
    "#### Compute the accuracy"
   ]
  },
  {
   "cell_type": "code",
   "execution_count": 329,
   "id": "d7ec9cbe",
   "metadata": {},
   "outputs": [],
   "source": [
    "def compute_acc(model, dataset, device):\n",
    "    n_correct, n_total = 0, 0\n",
    "    for *inputs, labels in dataset.generator():\n",
    "        # Move the data to device\n",
    "        inputs = (vec.to(device) for vec in inputs)\n",
    "        labels = labels.to(device)\n",
    "        \n",
    "        # Forward pass\n",
    "        outs = model(inputs).detach()\n",
    "        _, preds = torch.max(outs, 1)\n",
    "\n",
    "        n_correct += (preds == labels).cpu().sum().item()\n",
    "        n_total += labels.size(0)\n",
    "    \n",
    "    return n_correct / n_total"
   ]
  },
  {
   "cell_type": "code",
   "execution_count": 330,
   "id": "03d1a2a6",
   "metadata": {},
   "outputs": [
    {
     "data": {
      "text/plain": [
       "'Train accuracy=0.9986338797814208; Test accuracy=0.9146174863387978'"
      ]
     },
     "execution_count": 330,
     "metadata": {},
     "output_type": "execute_result"
    }
   ],
   "source": [
    "f\"Train accuracy={compute_acc(model, train_dataset, device)}; Test accuracy={compute_acc(model, test_dataset, device)}\""
   ]
  }
 ],
 "metadata": {
  "kernelspec": {
   "display_name": "base",
   "language": "python",
   "name": "python3"
  },
  "language_info": {
   "codemirror_mode": {
    "name": "ipython",
    "version": 3
   },
   "file_extension": ".py",
   "mimetype": "text/x-python",
   "name": "python",
   "nbconvert_exporter": "python",
   "pygments_lexer": "ipython3",
   "version": "3.12.7"
  }
 },
 "nbformat": 4,
 "nbformat_minor": 5
}
