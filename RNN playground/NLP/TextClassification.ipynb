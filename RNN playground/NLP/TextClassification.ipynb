{
 "cells": [
  {
   "cell_type": "markdown",
   "id": "e039b303",
   "metadata": {},
   "source": [
    "# Spam detector with LSTM and NLP"
   ]
  },
  {
   "cell_type": "code",
   "execution_count": 150,
   "id": "9db37920",
   "metadata": {},
   "outputs": [],
   "source": [
    "import torch\n",
    "from torch import nn, optim\n",
    "import numpy as np\n",
    "import matplotlib.pyplot as plt\n",
    "import pandas as pd\n",
    "import nltk\n",
    "from nltk.tokenize import word_tokenize\n",
    "\n",
    "from sklearn.model_selection import train_test_split\n",
    "from sklearn.utils import shuffle"
   ]
  },
  {
   "cell_type": "markdown",
   "id": "03c2d0e3",
   "metadata": {},
   "source": [
    "## Download the dataset"
   ]
  },
  {
   "cell_type": "code",
   "execution_count": 151,
   "id": "3d83e8c4",
   "metadata": {},
   "outputs": [
    {
     "name": "stderr",
     "output_type": "stream",
     "text": [
      "File 'spam.csv' already there; not retrieving.\n",
      "\n"
     ]
    }
   ],
   "source": [
    "!wget -nc https://lazyprogrammer.me/course_files/spam.csv"
   ]
  },
  {
   "cell_type": "code",
   "execution_count": 152,
   "id": "82fe3e26",
   "metadata": {},
   "outputs": [
    {
     "name": "stdout",
     "output_type": "stream",
     "text": [
      "v1,v2,,,\n",
      "ham,\"Go until jurong point, crazy.. Available only in bugis n great world la e buffet... Cine there got amore wat...\",,,\n",
      "ham,Ok lar... Joking wif u oni...,,,\n",
      "spam,Free entry in 2 a wkly comp to win FA Cup final tkts 21st May 2005. Text FA to 87121 to receive entry question(std txt rate)T&C's apply 08452810075over18's,,,\n",
      "ham,U dun say so early hor... U c already then say...,,,\n"
     ]
    }
   ],
   "source": [
    "%%bash\n",
    "head -n5 spam.csv"
   ]
  },
  {
   "cell_type": "code",
   "execution_count": 153,
   "id": "30b50f8c",
   "metadata": {},
   "outputs": [],
   "source": [
    "# Load in the data as a dataframe\n",
    "df = pd.read_csv(\"spam.csv\", usecols=[0, 1], encoding=\"ISO-8859-1\")"
   ]
  },
  {
   "cell_type": "code",
   "execution_count": 154,
   "id": "2eeace0d",
   "metadata": {},
   "outputs": [
    {
     "data": {
      "text/html": [
       "<div>\n",
       "<style scoped>\n",
       "    .dataframe tbody tr th:only-of-type {\n",
       "        vertical-align: middle;\n",
       "    }\n",
       "\n",
       "    .dataframe tbody tr th {\n",
       "        vertical-align: top;\n",
       "    }\n",
       "\n",
       "    .dataframe thead th {\n",
       "        text-align: right;\n",
       "    }\n",
       "</style>\n",
       "<table border=\"1\" class=\"dataframe\">\n",
       "  <thead>\n",
       "    <tr style=\"text-align: right;\">\n",
       "      <th></th>\n",
       "      <th>v1</th>\n",
       "      <th>v2</th>\n",
       "    </tr>\n",
       "  </thead>\n",
       "  <tbody>\n",
       "    <tr>\n",
       "      <th>0</th>\n",
       "      <td>ham</td>\n",
       "      <td>Go until jurong point, crazy.. Available only ...</td>\n",
       "    </tr>\n",
       "    <tr>\n",
       "      <th>1</th>\n",
       "      <td>ham</td>\n",
       "      <td>Ok lar... Joking wif u oni...</td>\n",
       "    </tr>\n",
       "    <tr>\n",
       "      <th>2</th>\n",
       "      <td>spam</td>\n",
       "      <td>Free entry in 2 a wkly comp to win FA Cup fina...</td>\n",
       "    </tr>\n",
       "    <tr>\n",
       "      <th>3</th>\n",
       "      <td>ham</td>\n",
       "      <td>U dun say so early hor... U c already then say...</td>\n",
       "    </tr>\n",
       "    <tr>\n",
       "      <th>4</th>\n",
       "      <td>ham</td>\n",
       "      <td>Nah I don't think he goes to usf, he lives aro...</td>\n",
       "    </tr>\n",
       "  </tbody>\n",
       "</table>\n",
       "</div>"
      ],
      "text/plain": [
       "     v1                                                 v2\n",
       "0   ham  Go until jurong point, crazy.. Available only ...\n",
       "1   ham                      Ok lar... Joking wif u oni...\n",
       "2  spam  Free entry in 2 a wkly comp to win FA Cup fina...\n",
       "3   ham  U dun say so early hor... U c already then say...\n",
       "4   ham  Nah I don't think he goes to usf, he lives aro..."
      ]
     },
     "execution_count": 154,
     "metadata": {},
     "output_type": "execute_result"
    }
   ],
   "source": [
    "df.head()"
   ]
  },
  {
   "cell_type": "code",
   "execution_count": 155,
   "id": "73b85607",
   "metadata": {},
   "outputs": [
    {
     "data": {
      "text/plain": [
       "array([[0],\n",
       "       [0],\n",
       "       [1],\n",
       "       [0],\n",
       "       [0]], dtype=int64)"
      ]
     },
     "execution_count": 155,
     "metadata": {},
     "output_type": "execute_result"
    }
   ],
   "source": [
    "# Convert the labels to numbers\n",
    "targets = df[\"v1\"].map({\"ham\":0, \"spam\":1}).to_numpy().reshape(-1, 1)\n",
    "targets[:5]"
   ]
  },
  {
   "cell_type": "code",
   "execution_count": 156,
   "id": "c23cff2a",
   "metadata": {},
   "outputs": [
    {
     "data": {
      "text/plain": [
       "((4457, 1), (1115, 1))"
      ]
     },
     "execution_count": 156,
     "metadata": {},
     "output_type": "execute_result"
    }
   ],
   "source": [
    "# Split the data\n",
    "df_train, df_test, y_train, y_test = train_test_split(df, targets, test_size=0.2)\n",
    "y_train.shape, y_test.shape"
   ]
  },
  {
   "cell_type": "code",
   "execution_count": null,
   "id": "fb986401",
   "metadata": {},
   "outputs": [],
   "source": [
    "# Tokenize and \"index\" the documents\n",
    "word2int = {\"<unk>\":0, \"<pad>\":1}\n",
    "idx = 2\n",
    "X_train, X_test = [], []\n",
    "for row in df_train[\"v2\"]:\n",
    "    tokens = word_tokenize(row)\n",
    "    for token in tokens:\n",
    "        if word2int.setdefault(token, idx) == idx:\n",
    "            idx += 1\n",
    "    X_train.append(list(map(lambda w: word2int[w], tokens)))\n",
    "\n",
    "# Encode the test set\n",
    "for row in df_test[\"v2\"]:\n",
    "    tokens = word_tokenize(row)\n",
    "    sent = []\n",
    "    for token in tokens:\n",
    "        sent.append(word2int.get(token, word2int[\"<unk>\"]))\n",
    "    X_test.append(sent)"
   ]
  },
  {
   "cell_type": "code",
   "execution_count": 158,
   "id": "8d80cbdc",
   "metadata": {},
   "outputs": [
    {
     "data": {
      "text/plain": [
       "10153"
      ]
     },
     "execution_count": 158,
     "metadata": {},
     "output_type": "execute_result"
    }
   ],
   "source": [
    "len(word2int)"
   ]
  },
  {
   "cell_type": "markdown",
   "id": "d8b31d3d",
   "metadata": {},
   "source": [
    "## Data generator"
   ]
  },
  {
   "cell_type": "code",
   "execution_count": 167,
   "id": "9ef080bb",
   "metadata": {},
   "outputs": [],
   "source": [
    "def data_generator(X, y, batch_size=32):\n",
    "    X, y = shuffle(X, y)\n",
    "    num_batches = int(np.ceil(len(y) / batch_size))\n",
    "    for idx in range(num_batches):\n",
    "        # Grad each batch\n",
    "        end = min(len(y), (idx + 1) * batch_size)\n",
    "        X_batch, y_batch = X[idx*batch_size:end], y[idx*batch_size:end]\n",
    "        \n",
    "        # Handle padding (pre-padding)\n",
    "        max_len = len(max(X_batch, key=len))\n",
    "        for i in range(len(X_batch)):\n",
    "            X_batch[i] = [word2int[\"<pad>\"]] * (max_len - len(X_batch[i])) + X_batch[i]\n",
    "        \n",
    "        # Convert to torch Tensor\n",
    "        X_batch = torch.from_numpy(np.array(X_batch)).long()\n",
    "        y_batch = torch.from_numpy(y_batch).long()\n",
    "        \n",
    "        yield X_batch, y_batch"
   ]
  },
  {
   "cell_type": "markdown",
   "id": "d93aa116",
   "metadata": {},
   "source": [
    "## Build the model"
   ]
  },
  {
   "cell_type": "code",
   "execution_count": 160,
   "id": "892f7e72",
   "metadata": {},
   "outputs": [],
   "source": [
    "class LSTM_Classifier(nn.Module):\n",
    "    def __init__(self, num_vocab, embed_dim, num_outs, num_hiddens, num_layers):\n",
    "        super(LSTM_Classifier, self).__init__()\n",
    "        \n",
    "        self.V = num_vocab\n",
    "        self.D = embed_dim\n",
    "        self.L = num_layers\n",
    "        self.K = num_outs\n",
    "        self.M = num_hiddens\n",
    "        \n",
    "        # Encoding layer\n",
    "        self.emb = nn.Embedding(self.V, self.D)\n",
    "        \n",
    "        # RNN layer\n",
    "        self.lstm = nn.LSTM(self.D, self.M, self.L, batch_first=True)\n",
    "        \n",
    "        # Dense layer\n",
    "        self.fc = nn.Linear(self.M, self.K)\n",
    "    \n",
    "    def forward(self, X):\n",
    "        # Initial states for rnn layer\n",
    "        h0 = torch.zeros(self.L, X.size(0), self.M)\n",
    "        c0 = torch.zeros(self.L, X.size(0), self.M)\n",
    "        # Encode the sentences\n",
    "        out = self.emb(X)\n",
    "\n",
    "        # RNN magic\n",
    "        out, _ = self.lstm(out, (h0, c0))\n",
    "        \n",
    "        # max pooling (the max value hidden time stamp is kept)\n",
    "        out, _ = torch.max(out, 1)\n",
    "        \n",
    "        # Linear layer\n",
    "        out = self.fc(out)\n",
    "        return out"
   ]
  },
  {
   "cell_type": "code",
   "execution_count": 161,
   "id": "b00c7b16",
   "metadata": {},
   "outputs": [],
   "source": [
    "def configure(model, lr, optim_method):\n",
    "    criterion = nn.BCEWithLogitsLoss()\n",
    "    optimizer = optim.Adam(model.parameters(), lr=lr) if optim_method == 'adam' else optim.SGD(model.parameters(), lr=lr)\n",
    "    return criterion, optimizer"
   ]
  },
  {
   "cell_type": "code",
   "execution_count": 162,
   "id": "5b33b635",
   "metadata": {},
   "outputs": [],
   "source": [
    "def batch_gd(model, criterion, optimizer, train_loader, test_loader, num_epochs):\n",
    "    loss_history, test_history = np.zeros(num_epochs), np.zeros(num_epochs)\n",
    "    \n",
    "    for epoch in range(num_epochs):\n",
    "        # Training\n",
    "        train_loss = []\n",
    "        for inputs, targets in train_loader():\n",
    "            optimizer.zero_grad()\n",
    "            \n",
    "            # Forward pass\n",
    "            outs = model(inputs)\n",
    "            loss = criterion(outs, targets.float())\n",
    "            train_loss.append(loss.item())\n",
    "            \n",
    "            # Update params\n",
    "            loss.backward()\n",
    "            optimizer.step()\n",
    "        # Record the loss\n",
    "        loss_history[epoch] = np.mean(train_loss)\n",
    "        \n",
    "        # Validating\n",
    "        test_loss = []\n",
    "        for inputs, targets in test_loader():\n",
    "            outs = model(inputs)\n",
    "            loss = criterion(outs, targets.float())\n",
    "            test_loss.append(loss.item())\n",
    "        test_history[epoch] = np.mean(test_loss)\n",
    "    \n",
    "    return loss_history, test_history"
   ]
  },
  {
   "cell_type": "markdown",
   "id": "de636d9c",
   "metadata": {},
   "source": [
    "## Train the model"
   ]
  },
  {
   "cell_type": "code",
   "execution_count": 180,
   "id": "0d27e173",
   "metadata": {},
   "outputs": [],
   "source": [
    "# Hyperparameters\n",
    "embed_dim = 20\n",
    "num_hiddens = 15\n",
    "lr = 0.001\n",
    "num_epochs = 15\n",
    "optim_method = 'adam'"
   ]
  },
  {
   "cell_type": "code",
   "execution_count": 181,
   "id": "0c296648",
   "metadata": {},
   "outputs": [],
   "source": [
    "model = LSTM_Classifier(len(word2int), embed_dim, 1, num_hiddens, 1)\n",
    "criterion, optimizer = configure(model, lr, optim_method)"
   ]
  },
  {
   "cell_type": "code",
   "execution_count": 173,
   "id": "0de50fa7",
   "metadata": {},
   "outputs": [],
   "source": [
    "train_loader = lambda: data_generator(X_train, y_train)\n",
    "test_loader = lambda: data_generator(X_test, y_test)"
   ]
  },
  {
   "cell_type": "code",
   "execution_count": 182,
   "id": "007833ce",
   "metadata": {},
   "outputs": [],
   "source": [
    "# Train\n",
    "loss_history, test_history = batch_gd(model, criterion, optimizer, train_loader, test_loader, num_epochs)"
   ]
  },
  {
   "cell_type": "markdown",
   "id": "4d898931",
   "metadata": {},
   "source": [
    "## Evaluate the model"
   ]
  },
  {
   "cell_type": "code",
   "execution_count": 183,
   "id": "f6c5f2e0",
   "metadata": {},
   "outputs": [
    {
     "data": {
      "image/png": "[encoded data removed]",
      "text/plain": [
       "<Figure size 640x480 with 1 Axes>"
      ]
     },
     "metadata": {},
     "output_type": "display_data"
    }
   ],
   "source": [
    "# Plot the loss over time\n",
    "plt.plot(loss_history, label=\"train loss\")\n",
    "plt.plot(test_history, label=\"test loss\")\n",
    "plt.legend()\n",
    "plt.show()"
   ]
  },
  {
   "cell_type": "code",
   "execution_count": 201,
   "id": "cd72068b",
   "metadata": {},
   "outputs": [],
   "source": [
    "# Accuracy\n",
    "def compute_accuracy(model, data_loader):\n",
    "    n_correct, n_total = 0, 0\n",
    "    for inputs, targets in data_loader():\n",
    "        outs = model(inputs)\n",
    "        preds = (outs > 0)\n",
    "        n_correct += (preds == targets).sum().item()\n",
    "        n_total += targets.shape[0]\n",
    "    return n_correct / n_total"
   ]
  },
  {
   "cell_type": "code",
   "execution_count": 202,
   "id": "1e57bd4e",
   "metadata": {},
   "outputs": [
    {
     "data": {
      "text/plain": [
       "(0.9961857751851021, 0.9668161434977578)"
      ]
     },
     "execution_count": 202,
     "metadata": {},
     "output_type": "execute_result"
    }
   ],
   "source": [
    "compute_accuracy(model, train_loader), compute_accuracy(model, test_loader)"
   ]
  }
 ],
 "metadata": {
  "kernelspec": {
   "display_name": "base",
   "language": "python",
   "name": "python3"
  },
  "language_info": {
   "codemirror_mode": {
    "name": "ipython",
    "version": 3
   },
   "file_extension": ".py",
   "mimetype": "text/x-python",
   "name": "python",
   "nbconvert_exporter": "python",
   "pygments_lexer": "ipython3",
   "version": "3.12.7"
  }
 },
 "nbformat": 4,
 "nbformat_minor": 5
}
